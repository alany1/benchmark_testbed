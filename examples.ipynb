{
 "cells": [
  {
   "cell_type": "markdown",
   "id": "69a991ec",
   "metadata": {},
   "source": [
    "# Examples of poison setups and Badnets implementation\n",
    "\n",
    "Cleaned up version of explore notebook"
   ]
  },
  {
   "cell_type": "code",
   "execution_count": 2,
   "id": "f84859c1",
   "metadata": {},
   "outputs": [],
   "source": [
    "import pickle\n",
    "import PIL\n",
    "from IPython.display import Image \n",
    "import torch, torchvision\n",
    "import learning_module"
   ]
  },
  {
   "cell_type": "code",
   "execution_count": 3,
   "id": "d0d38740",
   "metadata": {},
   "outputs": [],
   "source": [
    "#poison_setups = 'poison_setups/cifar10_transfer_learning.pickle'\n",
    "poison_setups = 'poison_setups/cifar10_from_scratch.pickle'\n",
    "#poison_setups = 'poison_setups/tinyimagenet_transfer_learning.pickle'\n",
    "#poison_setups = 'poison_setups/tinyimagenet_from_scratch.pickle'"
   ]
  },
  {
   "cell_type": "code",
   "execution_count": 4,
   "id": "3692789d",
   "metadata": {},
   "outputs": [],
   "source": [
    "with open(poison_setups, \"rb\") as handle:\n",
    "    setup_dicts = pickle.load(handle)"
   ]
  },
  {
   "cell_type": "code",
   "execution_count": 5,
   "id": "c0d75eec",
   "metadata": {},
   "outputs": [
    {
     "data": {
      "text/plain": [
       "{'target class': 7,\n",
       " 'target index': 7762,\n",
       " 'base class': 3,\n",
       " 'base indices': array([ 2386, 37215, 23942, 15836, 14070, 41601, 10209, 44252, 17912,\n",
       "        16273,  1785, 15106, 31740, 39885, 21727, 17614, 26244,  1059,\n",
       "         4796, 30204, 24174, 43438,  8786, 21832, 27938, 46605, 18442,\n",
       "        38485, 18462, 43685, 32350, 46371, 30058, 20337, 24803,  8467,\n",
       "        13253, 16703, 21501, 16405, 15016, 39399,  9856, 26009, 10870,\n",
       "        41168, 26660, 11809,  6700, 33236,  3286,   197, 11855,   998,\n",
       "        15872,  6596,  1696, 46070, 16360,  1098, 30806,  2127, 13471,\n",
       "        41513, 38048,  8916, 49944, 34579, 39461, 31900, 10929,  1841,\n",
       "        16796, 32085,  6716, 43472, 47681, 28772,  8224, 26609, 29793,\n",
       "        42492, 18373, 27222, 48040,  7483,  3514, 43841, 42740, 33262,\n",
       "        10321, 43981, 18186, 34334, 39921, 26598, 18412, 11976, 12681,\n",
       "        32142,  6493, 24192, 38444, 46205, 31141,  2348, 11040, 28738,\n",
       "        15278, 14730,  5407,  6905, 20413, 45082, 35464, 17529, 10565,\n",
       "        36222, 38383, 36900, 29561, 26575, 30862,  1554, 20630, 13091,\n",
       "        38097, 48524,  5870, 28773, 45211, 15156, 28135, 48592, 38400,\n",
       "        43767, 43832, 22865,  9166, 37350, 41597, 40399, 14590, 24922,\n",
       "        27270, 34155, 29001, 19617, 43490, 11291, 41918, 33238, 12050,\n",
       "        40611, 30015, 38647, 41639, 23884, 10186, 41521, 29084, 28067,\n",
       "        35427, 40165, 34243, 48132, 18486,  2383, 49157, 18329, 35101,\n",
       "        35772, 46950, 25218, 44896, 20525,  4083,  5610, 31676, 45380,\n",
       "         1685, 26557, 20465, 34889, 49619, 29936,  7220, 35500, 33978,\n",
       "        25738,  7469, 47204, 13297,  7123, 29685, 43779, 38472, 49790,\n",
       "        28554, 15383, 29255, 11668, 36159, 12118, 15210, 20289, 20631,\n",
       "         8158, 18684, 34184,  6284, 23401, 41998, 14703,  7006, 19994,\n",
       "        49054, 44819, 47933, 23322,   995, 26462, 33952, 38702, 44127,\n",
       "        46231,  7532,  4835, 46529,  8183, 13502, 37951,  7651, 11379,\n",
       "        32098, 12042, 28697,  5534,  4108, 38552, 44233, 13202, 16573,\n",
       "         6753, 26813, 33033,  8846, 33828,  6385, 19422, 17660, 42773,\n",
       "         7734, 15311, 20714, 25996, 38100, 43254, 30975,  7517, 19327,\n",
       "         7343, 17451, 45467, 43576, 34244,  7460, 30266, 22244, 46459,\n",
       "        34498, 27235, 21982, 23326, 49386, 26044, 17567, 47322, 10508,\n",
       "        21783, 26126, 42551, 22620,   445, 19005, 32264, 45038, 27608,\n",
       "        36366,  6961,  4887, 16070, 31295, 43971, 49691, 34689, 32846,\n",
       "        30789, 11188, 45251, 27298, 24154, 44376, 27880, 22929, 30059,\n",
       "        46886, 36043, 39980, 16661, 20704,  2174, 46157, 27467, 25676,\n",
       "        47526, 16035, 26472, 40922, 41903, 32555, 37669, 25185, 14018,\n",
       "        38068, 11447, 35246, 32685,  8822, 18422, 35754, 23266, 36000,\n",
       "        44513, 18582, 30708, 34061,  2627, 11836, 27559, 19780, 14578,\n",
       "        16561, 17672, 22025, 28839, 10527,  6402, 36601, 16851, 46432,\n",
       "         7122, 49896, 23541, 24348, 10518, 25081,  7667, 13748,  9794,\n",
       "          395,  4921,  8864, 43336, 29643,  7946, 28331, 26721,  1553,\n",
       "        38504, 29449, 37095, 13061, 22402, 24669, 45732,     9, 42800,\n",
       "        46094,  5877, 13222, 47062, 15129,  3391, 30653, 48585, 37863,\n",
       "        34517,  3807, 47942, 33092,  5450, 14125, 29159,  9968, 47439,\n",
       "        37163,  1511, 11449, 26336, 36990, 14091,  7171, 32813, 40764,\n",
       "        13302, 44047, 14485, 13247,  7478, 23033, 18584, 26111, 39897,\n",
       "        43784, 49222, 22135, 34479, 43813, 39021, 24903, 41845, 19864,\n",
       "        27432, 35889, 19093, 28529,  4089, 16502, 32621, 20378, 38984,\n",
       "         6492,  7498, 20345, 30347, 38147, 18570, 24147, 49835, 13595,\n",
       "        24618, 38880, 12886, 10534, 27993, 36027, 36273, 15083, 10441,\n",
       "        43776, 47132, 35437, 37271, 30886,  4149, 29982, 36779, 29395,\n",
       "        46688, 23270, 32405, 33810,   446, 38246, 25885, 25633, 49299,\n",
       "        12823,   922, 27619, 36970, 19381, 12007,  4772, 12671, 28050,\n",
       "         5545, 25997, 34997, 26965, 48907, 33159, 16746, 23815, 24022,\n",
       "         1121, 12278, 13991, 22994, 16438, 11628, 35704, 43313,  1076,\n",
       "         9145,  7603, 19820, 26711, 22549])}"
      ]
     },
     "execution_count": 5,
     "metadata": {},
     "output_type": "execute_result"
    }
   ],
   "source": [
    "setup_dicts[0]"
   ]
  },
  {
   "cell_type": "code",
   "execution_count": 6,
   "id": "83cc1dbb",
   "metadata": {},
   "outputs": [],
   "source": [
    "def getTrial(n, attack):\n",
    "    with open(f'poison_examples/cifar10-transfer/{attack}_poisons/num_poisons=25/{n}/base_indices.pickle','rb') as handle:\n",
    "        base = pickle.load(handle)\n",
    "    with open(f'poison_examples/cifar10-transfer/{attack}_poisons/num_poisons=25/{n}/target.pickle','rb') as handle:\n",
    "        target = pickle.load(handle)\n",
    "    with open(f'poison_examples/cifar10-transfer/{attack}_poisons/num_poisons=25/{n}/poisons.pickle','rb') as handle:\n",
    "        poisons= pickle.load(handle)\n",
    "    return base, target, poisons"
   ]
  },
  {
   "cell_type": "code",
   "execution_count": 7,
   "id": "44f6797a",
   "metadata": {},
   "outputs": [],
   "source": [
    "htbd_base, htbd_target, htbd_poisons = getTrial(0, 'htbd')"
   ]
  },
  {
   "cell_type": "code",
   "execution_count": 8,
   "id": "f0514bd2",
   "metadata": {},
   "outputs": [
    {
     "data": {
      "text/plain": [
       "array([33922, 11944, 30575, 17174, 42674,  5649, 24476, 13194, 24587,\n",
       "       42204,  8515, 43220, 17865,  4567, 24374, 39691, 43775, 28408,\n",
       "        4079, 48516, 40761, 41842, 35626, 49004, 25820])"
      ]
     },
     "execution_count": 8,
     "metadata": {},
     "output_type": "execute_result"
    }
   ],
   "source": [
    "htbd_base #Why don't these match with setup_dicts[0]?"
   ]
  },
  {
   "cell_type": "code",
   "execution_count": 9,
   "id": "4f776697",
   "metadata": {},
   "outputs": [],
   "source": [
    "badnets_base, badnets_target, badnets_poisons = getTrial(0, 'badnets')"
   ]
  },
  {
   "cell_type": "code",
   "execution_count": 10,
   "id": "705cdaf4",
   "metadata": {},
   "outputs": [
    {
     "data": {
      "text/plain": [
       "array([30330,  7829, 47673, 14780, 41050, 37670, 20223, 41973, 21599,\n",
       "       33265, 40426, 25213, 10643, 23609, 19553, 41843, 44560, 18517,\n",
       "       17023, 14400, 40330, 26767, 42366, 34367, 44798])"
      ]
     },
     "execution_count": 10,
     "metadata": {},
     "output_type": "execute_result"
    }
   ],
   "source": [
    "badnets_base #This matches with setup_dicts[0]"
   ]
  },
  {
   "cell_type": "code",
   "execution_count": 11,
   "id": "1c06568a",
   "metadata": {},
   "outputs": [],
   "source": [
    "badnets_poisons[0][0].show() #Yellow square trigger at top left corner"
   ]
  },
  {
   "cell_type": "code",
   "execution_count": 8,
   "id": "ec29b1f1",
   "metadata": {},
   "outputs": [],
   "source": [
    "with open('poison_examples/cifar10-transfer/badnets_poisons_red/badnets_poisons/0/target.pickle', 'rb') as handle:\n",
    "    poisons = pickle.load(handle)\n"
   ]
  },
  {
   "cell_type": "code",
   "execution_count": 10,
   "id": "1c12134d",
   "metadata": {},
   "outputs": [],
   "source": [
    "from torchvision import transforms\n",
    "t = transforms.ToPILImage()\n",
    "\n"
   ]
  },
  {
   "cell_type": "code",
   "execution_count": 26,
   "id": "419d83a6",
   "metadata": {},
   "outputs": [],
   "source": [
    "with open('poison_examples/cifar10-scratch/clbd/0/poisons.pickle', 'rb') as handle:\n",
    "    poisons = pickle.load(handle)\n",
    "with open('poison_examples/cifar10-scratch/clbd/0/base_indices.pickle', 'rb') as handle:\n",
    "    base = pickle.load(handle)\n",
    "with open('poison_examples/cifar10-scratch/clbd_targeted_robust/0/poisons.pickle', 'rb') as handle:\n",
    "    robust_poisons = pickle.load(handle)\n",
    "with open('poison_examples/cifar10-scratch/clbd/0/poisons.pickle', 'rb') as handle:\n",
    "    robust_poisons = pickle.load(handle)\n",
    "with open('clbd_targeted_robust/98/poisons.pickle', 'rb') as handle:\n",
    "    robust_poisons_new = pickle.load(handle)"
   ]
  },
  {
   "cell_type": "code",
   "execution_count": 27,
   "id": "526b0cee",
   "metadata": {},
   "outputs": [
    {
     "ename": "NameError",
     "evalue": "name 'convert' is not defined",
     "output_type": "error",
     "traceback": [
      "\u001b[0;31m---------------------------------------------------------------------------\u001b[0m",
      "\u001b[0;31mNameError\u001b[0m                                 Traceback (most recent call last)",
      "\u001b[0;32m/var/folders/w3/lngg3q_j3bjbdnsfznd4kvb80000gn/T/ipykernel_4725/1252245582.py\u001b[0m in \u001b[0;36m<module>\u001b[0;34m\u001b[0m\n\u001b[1;32m      1\u001b[0m \u001b[0mrobust_poisons_new\u001b[0m\u001b[0;34m[\u001b[0m\u001b[0;36m0\u001b[0m\u001b[0;34m]\u001b[0m\u001b[0;34m[\u001b[0m\u001b[0;36m0\u001b[0m\u001b[0;34m]\u001b[0m\u001b[0;34m.\u001b[0m\u001b[0mshow\u001b[0m\u001b[0;34m(\u001b[0m\u001b[0;34m)\u001b[0m\u001b[0;34m\u001b[0m\u001b[0;34m\u001b[0m\u001b[0m\n\u001b[0;32m----> 2\u001b[0;31m \u001b[0mconvert\u001b[0m\u001b[0;34m(\u001b[0m\u001b[0mbase\u001b[0m\u001b[0;34m[\u001b[0m\u001b[0;36m0\u001b[0m\u001b[0;34m]\u001b[0m\u001b[0;34m[\u001b[0m\u001b[0;36m0\u001b[0m\u001b[0;34m]\u001b[0m\u001b[0;34m)\u001b[0m\u001b[0;34m\u001b[0m\u001b[0;34m\u001b[0m\u001b[0m\n\u001b[0m",
      "\u001b[0;31mNameError\u001b[0m: name 'convert' is not defined"
     ]
    }
   ],
   "source": [
    "robust_poisons_new[0][0].show()\n",
    "convert(base[0][0])"
   ]
  },
  {
   "cell_type": "code",
   "execution_count": 14,
   "id": "5ca5fb71",
   "metadata": {},
   "outputs": [
    {
     "name": "stdout",
     "output_type": "stream",
     "text": [
      "Files already downloaded and verified\n"
     ]
    }
   ],
   "source": [
    "trainset = torchvision.datasets.CIFAR10(\n",
    "            root=\"./data\", train=True, download=True\n",
    "        )"
   ]
  },
  {
   "cell_type": "code",
   "execution_count": 31,
   "id": "9e67b7c0",
   "metadata": {},
   "outputs": [
    {
     "ename": "IndexError",
     "evalue": "invalid index to scalar variable.",
     "output_type": "error",
     "traceback": [
      "\u001b[0;31m---------------------------------------------------------------------------\u001b[0m",
      "\u001b[0;31mIndexError\u001b[0m                                Traceback (most recent call last)",
      "\u001b[0;32m/var/folders/w3/lngg3q_j3bjbdnsfznd4kvb80000gn/T/ipykernel_4725/3977844595.py\u001b[0m in \u001b[0;36m<module>\u001b[0;34m\u001b[0m\n\u001b[1;32m      1\u001b[0m \u001b[0;32mfrom\u001b[0m \u001b[0mtorchvision\u001b[0m \u001b[0;32mimport\u001b[0m \u001b[0mtransforms\u001b[0m\u001b[0;34m\u001b[0m\u001b[0;34m\u001b[0m\u001b[0m\n\u001b[0;32m----> 2\u001b[0;31m \u001b[0mtorch\u001b[0m\u001b[0;34m.\u001b[0m\u001b[0mmax\u001b[0m\u001b[0;34m(\u001b[0m\u001b[0mtransforms\u001b[0m\u001b[0;34m.\u001b[0m\u001b[0mToTensor\u001b[0m\u001b[0;34m(\u001b[0m\u001b[0;34m)\u001b[0m\u001b[0;34m(\u001b[0m\u001b[0mrobust_poisons_new\u001b[0m\u001b[0;34m[\u001b[0m\u001b[0;36m0\u001b[0m\u001b[0;34m]\u001b[0m\u001b[0;34m[\u001b[0m\u001b[0;36m0\u001b[0m\u001b[0;34m]\u001b[0m\u001b[0;34m)\u001b[0m \u001b[0;34m-\u001b[0m \u001b[0mtransforms\u001b[0m\u001b[0;34m.\u001b[0m\u001b[0mToTensor\u001b[0m\u001b[0;34m(\u001b[0m\u001b[0;34m)\u001b[0m\u001b[0;34m(\u001b[0m\u001b[0mbase\u001b[0m\u001b[0;34m[\u001b[0m\u001b[0;36m1\u001b[0m\u001b[0;34m]\u001b[0m\u001b[0;34m[\u001b[0m\u001b[0;36m0\u001b[0m\u001b[0;34m]\u001b[0m\u001b[0;34m)\u001b[0m\u001b[0;34m)\u001b[0m\u001b[0;34m*\u001b[0m\u001b[0;36m255\u001b[0m\u001b[0;34m\u001b[0m\u001b[0;34m\u001b[0m\u001b[0m\n\u001b[0m",
      "\u001b[0;31mIndexError\u001b[0m: invalid index to scalar variable."
     ]
    }
   ],
   "source": [
    "from torchvision import transforms\n",
    "torch.max(transforms.ToTensor()(robust_poisons_new[0][0]) - transforms.ToTensor()(base[1][0]))*255"
   ]
  },
  {
   "cell_type": "code",
   "execution_count": 35,
   "id": "1a2b3bcd",
   "metadata": {},
   "outputs": [
    {
     "data": {
      "text/plain": [
       "tensor(17.)"
      ]
     },
     "execution_count": 35,
     "metadata": {},
     "output_type": "execute_result"
    }
   ],
   "source": [
    "#robust_poisons[200][0].show()\n",
    "#trainset[base[0]][0]\n",
    "torch.max(t(trainset[base[0]][0]) - t(robust_poisons[0][0]))*255"
   ]
  },
  {
   "cell_type": "code",
   "execution_count": 32,
   "id": "3b575dab",
   "metadata": {},
   "outputs": [],
   "source": [
    "t = transforms.ToTensor()"
   ]
  },
  {
   "cell_type": "code",
   "execution_count": 63,
   "id": "ecf43580",
   "metadata": {},
   "outputs": [],
   "source": [
    "img = transforms.ToTensor()(trainset[0][0])\n"
   ]
  },
  {
   "cell_type": "code",
   "execution_count": 52,
   "id": "afc91d69",
   "metadata": {},
   "outputs": [],
   "source": [
    "t = transforms.Compose([transforms.RandomHorizontalFlip()])#, transforms.RandomCrop(32,4)])"
   ]
  },
  {
   "cell_type": "code",
   "execution_count": 65,
   "id": "3737caed",
   "metadata": {},
   "outputs": [
    {
     "data": {
      "text/plain": [
       "tensor([[[0.2314, 0.1686, 0.1961,  ..., 0.6196, 0.5961, 0.5804],\n",
       "         [0.0627, 0.0000, 0.0706,  ..., 0.4824, 0.4667, 0.4784],\n",
       "         [0.0980, 0.0627, 0.1922,  ..., 0.4627, 0.4706, 0.4275],\n",
       "         ...,\n",
       "         [0.8157, 0.7882, 0.7765,  ..., 0.6275, 0.2196, 0.2078],\n",
       "         [0.7059, 0.6784, 0.7294,  ..., 0.7216, 0.3804, 0.3255],\n",
       "         [0.6941, 0.6588, 0.7020,  ..., 0.8471, 0.5922, 0.4824]],\n",
       "\n",
       "        [[0.2431, 0.1804, 0.1882,  ..., 0.5176, 0.4902, 0.4863],\n",
       "         [0.0784, 0.0000, 0.0314,  ..., 0.3451, 0.3255, 0.3412],\n",
       "         [0.0941, 0.0275, 0.1059,  ..., 0.3294, 0.3294, 0.2863],\n",
       "         ...,\n",
       "         [0.6667, 0.6000, 0.6314,  ..., 0.5216, 0.1216, 0.1333],\n",
       "         [0.5451, 0.4824, 0.5647,  ..., 0.5804, 0.2431, 0.2078],\n",
       "         [0.5647, 0.5059, 0.5569,  ..., 0.7216, 0.4627, 0.3608]],\n",
       "\n",
       "        [[0.2471, 0.1765, 0.1686,  ..., 0.4235, 0.4000, 0.4039],\n",
       "         [0.0784, 0.0000, 0.0000,  ..., 0.2157, 0.1961, 0.2235],\n",
       "         [0.0824, 0.0000, 0.0314,  ..., 0.1961, 0.1961, 0.1647],\n",
       "         ...,\n",
       "         [0.3765, 0.1333, 0.1020,  ..., 0.2745, 0.0275, 0.0784],\n",
       "         [0.3765, 0.1647, 0.1176,  ..., 0.3686, 0.1333, 0.1333],\n",
       "         [0.4549, 0.3686, 0.3412,  ..., 0.5490, 0.3294, 0.2824]]])"
      ]
     },
     "execution_count": 65,
     "metadata": {},
     "output_type": "execute_result"
    }
   ],
   "source": [
    "t(img)"
   ]
  },
  {
   "cell_type": "code",
   "execution_count": 375,
   "id": "1e18be30",
   "metadata": {},
   "outputs": [],
   "source": [
    "from torch import nn\n",
    "def generate_trigger(trainset, label, surrogate, epsilon, N = 100, num_iters = 40, lr = 0.005):\n",
    "    \"\"\"\n",
    "    Generate the NARCISSUS trigger using randomly selected images from the trainset of class label.\n",
    "\n",
    "    inputs:\n",
    "        trainset:       Dataset containing training images\n",
    "        label:          Target label to sample images of from trainset\n",
    "    return:\n",
    "        PIL image of NARCISSUS-crafted trigger\n",
    "    \"\"\"\n",
    "    epsilon = torch.tensor(epsilon)\n",
    "    images = torch.stack([x for x,y in trainset if y == label])\n",
    "    idxs = torch.randperm(len(images))[:N]\n",
    "\n",
    "    samples = images[idxs]\n",
    "    delta = torch.zeros_like(samples[0]).uniform_(-epsilon, epsilon)\n",
    "    label = torch.tensor([label for _ in range(N)])\n",
    "    for step in range(num_iters):\n",
    "        delta.requires_grad_()\n",
    "        with torch.enable_grad():\n",
    "            if step % 1 == 0:\n",
    "                print(step)\n",
    "            loss = nn.functional.cross_entropy(torch.clamp(surrogate(samples + delta),0,1), label, reduction = 'sum')\n",
    "            loss /= N\n",
    "            print(loss)\n",
    "        grad = torch.autograd.grad(loss, [delta])[0]\n",
    "        delta = delta.detach() - lr * torch.sign(grad.detach())\n",
    "        delta = torch.min(torch.max(-epsilon, delta), epsilon)\n",
    "        #delta = torch.clamp(delta, 0.0, 1.0)\n",
    "        print('after', nn.functional.cross_entropy(torch.clamp(surrogate(samples+delta),0,1), label, reduction = 'sum')/N)\n",
    "    \n",
    "    convert = transforms.ToPILImage()\n",
    "    delta = convert(delta)\n",
    "    \n",
    "    return delta"
   ]
  },
  {
   "cell_type": "code",
   "execution_count": 327,
   "id": "a7a71114",
   "metadata": {},
   "outputs": [
    {
     "ename": "SyntaxError",
     "evalue": "EOL while scanning string literal (185237248.py, line 1)",
     "output_type": "error",
     "traceback": [
      "\u001b[0;36m  File \u001b[0;32m\"/var/folders/w3/lngg3q_j3bjbdnsfznd4kvb80000gn/T/ipykernel_2038/185237248.py\"\u001b[0;36m, line \u001b[0;32m1\u001b[0m\n\u001b[0;31m    surr = learning_module.load_model_from_checkpoint(\"vgg11\", \"pretrained_models/VGG11_CIFAR100.pth)\u001b[0m\n\u001b[0m                                                                                                     ^\u001b[0m\n\u001b[0;31mSyntaxError\u001b[0m\u001b[0;31m:\u001b[0m EOL while scanning string literal\n"
     ]
    }
   ],
   "source": [
    "surr = learning_module.load_model_from_checkpoint(\"vgg11\", \"pretrained_models/VGG11_CIFAR100.pth)"
   ]
  },
  {
   "cell_type": "code",
   "execution_count": 141,
   "id": "d90a6c32",
   "metadata": {},
   "outputs": [
    {
     "name": "stdout",
     "output_type": "stream",
     "text": [
      "Files already downloaded and verified\n"
     ]
    }
   ],
   "source": [
    "trainset = torchvision.datasets.CIFAR10(\n",
    "            root=\"./data\", train=True, download=True, transform=transforms.ToTensor()\n",
    "        )"
   ]
  },
  {
   "cell_type": "code",
   "execution_count": 376,
   "id": "25fc5281",
   "metadata": {},
   "outputs": [
    {
     "name": "stdout",
     "output_type": "stream",
     "text": [
      "0\n",
      "tensor(2.3385, grad_fn=<DivBackward0>)\n",
      "after tensor(2.3168, grad_fn=<DivBackward0>)\n",
      "1\n",
      "tensor(2.3168, grad_fn=<DivBackward0>)\n",
      "after tensor(2.2981, grad_fn=<DivBackward0>)\n",
      "2\n",
      "tensor(2.2981, grad_fn=<DivBackward0>)\n",
      "after tensor(2.2809, grad_fn=<DivBackward0>)\n",
      "3\n",
      "tensor(2.2809, grad_fn=<DivBackward0>)\n",
      "after tensor(2.2662, grad_fn=<DivBackward0>)\n",
      "4\n",
      "tensor(2.2662, grad_fn=<DivBackward0>)\n",
      "after tensor(2.2527, grad_fn=<DivBackward0>)\n",
      "5\n",
      "tensor(2.2527, grad_fn=<DivBackward0>)\n",
      "after tensor(2.2419, grad_fn=<DivBackward0>)\n",
      "6\n",
      "tensor(2.2419, grad_fn=<DivBackward0>)\n",
      "after tensor(2.2333, grad_fn=<DivBackward0>)\n",
      "7\n",
      "tensor(2.2333, grad_fn=<DivBackward0>)\n",
      "after tensor(2.2238, grad_fn=<DivBackward0>)\n",
      "8\n",
      "tensor(2.2238, grad_fn=<DivBackward0>)\n",
      "after tensor(2.2180, grad_fn=<DivBackward0>)\n",
      "9\n",
      "tensor(2.2180, grad_fn=<DivBackward0>)\n",
      "after tensor(2.2112, grad_fn=<DivBackward0>)\n",
      "10\n",
      "tensor(2.2112, grad_fn=<DivBackward0>)\n",
      "after tensor(2.2050, grad_fn=<DivBackward0>)\n",
      "11\n",
      "tensor(2.2050, grad_fn=<DivBackward0>)\n",
      "after tensor(2.1996, grad_fn=<DivBackward0>)\n",
      "12\n",
      "tensor(2.1996, grad_fn=<DivBackward0>)\n",
      "after tensor(2.1936, grad_fn=<DivBackward0>)\n",
      "13\n",
      "tensor(2.1936, grad_fn=<DivBackward0>)\n",
      "after tensor(2.1890, grad_fn=<DivBackward0>)\n",
      "14\n",
      "tensor(2.1890, grad_fn=<DivBackward0>)\n",
      "after tensor(2.1853, grad_fn=<DivBackward0>)\n",
      "15\n",
      "tensor(2.1853, grad_fn=<DivBackward0>)\n",
      "after tensor(2.1821, grad_fn=<DivBackward0>)\n",
      "16\n",
      "tensor(2.1821, grad_fn=<DivBackward0>)\n",
      "after tensor(2.1781, grad_fn=<DivBackward0>)\n",
      "17\n",
      "tensor(2.1781, grad_fn=<DivBackward0>)\n",
      "after tensor(2.1755, grad_fn=<DivBackward0>)\n",
      "18\n",
      "tensor(2.1755, grad_fn=<DivBackward0>)\n",
      "after tensor(2.1734, grad_fn=<DivBackward0>)\n",
      "19\n",
      "tensor(2.1734, grad_fn=<DivBackward0>)\n",
      "after tensor(2.1712, grad_fn=<DivBackward0>)\n",
      "20\n",
      "tensor(2.1712, grad_fn=<DivBackward0>)\n",
      "after tensor(2.1690, grad_fn=<DivBackward0>)\n",
      "21\n",
      "tensor(2.1690, grad_fn=<DivBackward0>)\n",
      "after tensor(2.1672, grad_fn=<DivBackward0>)\n",
      "22\n",
      "tensor(2.1672, grad_fn=<DivBackward0>)\n",
      "after tensor(2.1658, grad_fn=<DivBackward0>)\n",
      "23\n",
      "tensor(2.1658, grad_fn=<DivBackward0>)\n",
      "after tensor(2.1641, grad_fn=<DivBackward0>)\n",
      "24\n",
      "tensor(2.1641, grad_fn=<DivBackward0>)\n",
      "after tensor(2.1629, grad_fn=<DivBackward0>)\n"
     ]
    }
   ],
   "source": [
    "res = generate_trigger(trainset, 4, surr, 32/255, num_iters = 25)"
   ]
  },
  {
   "cell_type": "code",
   "execution_count": 379,
   "id": "4b2876d1",
   "metadata": {},
   "outputs": [
    {
     "name": "stdout",
     "output_type": "stream",
     "text": [
      "tensor(31.6787, grad_fn=<NllLossBackward0>) tensor(29.0527, grad_fn=<NllLossBackward0>)\n"
     ]
    }
   ],
   "source": [
    "res\n",
    "t = transforms.ToTensor()\n",
    "loss = nn.functional.cross_entropy(surr(torch.clamp(samples + t(res),0,1)), torch.tensor([4]*10), reduction = 'sum')\n",
    "preloss = nn.functional.cross_entropy(surr(samples), torch.tensor([4]*10), reduction = 'sum')\n",
    "print(preloss, loss)"
   ]
  },
  {
   "cell_type": "code",
   "execution_count": 389,
   "id": "67a2bbfd",
   "metadata": {},
   "outputs": [
    {
     "data": {
      "text/plain": [
       "(tensor([[-0.0445, -0.8191,  0.5397,  0.7139,  0.4599,  0.3386,  0.0076,  0.0324,\n",
       "          -0.8863, -0.3425]], grad_fn=<AddmmBackward0>),\n",
       " tensor([[-0.1487, -0.8399,  0.5389,  0.7402,  0.3170,  0.3598,  0.0672, -0.0824,\n",
       "          -0.7585, -0.1939]], grad_fn=<AddmmBackward0>))"
      ]
     },
     "execution_count": 389,
     "metadata": {},
     "output_type": "execute_result"
    }
   ],
   "source": [
    "surr((torch.clamp(images[idxs[8]]+t(res),0,1).unsqueeze(0))), surr((images[idxs[8]]).unsqueeze(0))"
   ]
  },
  {
   "cell_type": "code",
   "execution_count": 234,
   "id": "02300301",
   "metadata": {},
   "outputs": [],
   "source": [
    "images = torch.stack([x for x,y in trainset if y == 4])\n",
    "idxs = torch.randperm(len(images))[:10]"
   ]
  },
  {
   "cell_type": "code",
   "execution_count": 355,
   "id": "458f1bf0",
   "metadata": {},
   "outputs": [
    {
     "ename": "IndexError",
     "evalue": "index 10 is out of bounds for dimension 0 with size 10",
     "output_type": "error",
     "traceback": [
      "\u001b[0;31m---------------------------------------------------------------------------\u001b[0m",
      "\u001b[0;31mIndexError\u001b[0m                                Traceback (most recent call last)",
      "\u001b[0;32m/var/folders/w3/lngg3q_j3bjbdnsfznd4kvb80000gn/T/ipykernel_2038/3319603737.py\u001b[0m in \u001b[0;36m<module>\u001b[0;34m\u001b[0m\n\u001b[0;32m----> 1\u001b[0;31m \u001b[0mprint\u001b[0m\u001b[0;34m(\u001b[0m\u001b[0mnn\u001b[0m\u001b[0;34m.\u001b[0m\u001b[0mfunctional\u001b[0m\u001b[0;34m.\u001b[0m\u001b[0mcross_entropy\u001b[0m\u001b[0;34m(\u001b[0m\u001b[0msurr\u001b[0m\u001b[0;34m(\u001b[0m\u001b[0mimages\u001b[0m\u001b[0;34m[\u001b[0m\u001b[0midxs\u001b[0m\u001b[0;34m[\u001b[0m\u001b[0;36m10\u001b[0m\u001b[0;34m]\u001b[0m\u001b[0;34m]\u001b[0m\u001b[0;34m.\u001b[0m\u001b[0munsqueeze\u001b[0m\u001b[0;34m(\u001b[0m\u001b[0;36m0\u001b[0m\u001b[0;34m)\u001b[0m\u001b[0;34m)\u001b[0m\u001b[0;34m,\u001b[0m \u001b[0mtorch\u001b[0m\u001b[0;34m.\u001b[0m\u001b[0mtensor\u001b[0m\u001b[0;34m(\u001b[0m\u001b[0;34m[\u001b[0m\u001b[0;36m4\u001b[0m\u001b[0;34m]\u001b[0m\u001b[0;34m)\u001b[0m\u001b[0;34m)\u001b[0m\u001b[0;34m)\u001b[0m\u001b[0;34m\u001b[0m\u001b[0;34m\u001b[0m\u001b[0m\n\u001b[0m\u001b[1;32m      2\u001b[0m \u001b[0mprint\u001b[0m\u001b[0;34m(\u001b[0m\u001b[0mnn\u001b[0m\u001b[0;34m.\u001b[0m\u001b[0mfunctional\u001b[0m\u001b[0;34m.\u001b[0m\u001b[0mcross_entropy\u001b[0m\u001b[0;34m(\u001b[0m\u001b[0msurr\u001b[0m\u001b[0;34m(\u001b[0m\u001b[0;34m(\u001b[0m\u001b[0mimages\u001b[0m\u001b[0;34m[\u001b[0m\u001b[0midxs\u001b[0m\u001b[0;34m[\u001b[0m\u001b[0;36m10\u001b[0m\u001b[0;34m]\u001b[0m\u001b[0;34m]\u001b[0m\u001b[0;34m+\u001b[0m\u001b[0mt\u001b[0m\u001b[0;34m(\u001b[0m\u001b[0mres\u001b[0m\u001b[0;34m)\u001b[0m\u001b[0;34m)\u001b[0m\u001b[0;34m.\u001b[0m\u001b[0munsqueeze\u001b[0m\u001b[0;34m(\u001b[0m\u001b[0;36m0\u001b[0m\u001b[0;34m)\u001b[0m\u001b[0;34m)\u001b[0m\u001b[0;34m,\u001b[0m \u001b[0mtorch\u001b[0m\u001b[0;34m.\u001b[0m\u001b[0mtensor\u001b[0m\u001b[0;34m(\u001b[0m\u001b[0;34m[\u001b[0m\u001b[0;36m4\u001b[0m\u001b[0;34m]\u001b[0m\u001b[0;34m)\u001b[0m\u001b[0;34m)\u001b[0m\u001b[0;34m)\u001b[0m\u001b[0;34m\u001b[0m\u001b[0;34m\u001b[0m\u001b[0m\n",
      "\u001b[0;31mIndexError\u001b[0m: index 10 is out of bounds for dimension 0 with size 10"
     ]
    }
   ],
   "source": [
    "print(nn.functional.cross_entropy(surr(images[idxs[10]].unsqueeze(0)), torch.tensor([4])))\n",
    "print(nn.functional.cross_entropy(surr((images[idxs[10]]+t(res)).unsqueeze(0)), torch.tensor([4])))"
   ]
  },
  {
   "cell_type": "code",
   "execution_count": 251,
   "id": "26bec44a",
   "metadata": {},
   "outputs": [
    {
     "data": {
      "text/plain": [
       "tensor([4, 1, 9, 5, 0, 1, 2, 9, 3, 6])"
      ]
     },
     "execution_count": 251,
     "metadata": {},
     "output_type": "execute_result"
    }
   ],
   "source": [
    "torch.argmax(surr(samples), axis=1)"
   ]
  },
  {
   "cell_type": "code",
   "execution_count": 255,
   "id": "72c59590",
   "metadata": {},
   "outputs": [
    {
     "data": {
      "text/plain": [
       "tensor([6, 1, 9, 5, 2, 1, 2, 9, 3, 6])"
      ]
     },
     "execution_count": 255,
     "metadata": {},
     "output_type": "execute_result"
    }
   ],
   "source": [
    "torch.argmax(surr(samples + t(res)), axis = 1)"
   ]
  },
  {
   "cell_type": "code",
   "execution_count": 180,
   "id": "f9a9dae1",
   "metadata": {},
   "outputs": [
    {
     "data": {
      "text/plain": [
       "tensor([4, 1, 9, 5, 4, 1, 2, 9, 3, 6])"
      ]
     },
     "execution_count": 180,
     "metadata": {},
     "output_type": "execute_result"
    }
   ],
   "source": [
    "torch.argmax(surr(samples+transforms.ToTensor()(res)), axis = 1)"
   ]
  },
  {
   "cell_type": "code",
   "execution_count": 189,
   "id": "6ab76b7b",
   "metadata": {},
   "outputs": [
    {
     "data": {
      "image/png": "[encoded data removed]",
      "text/plain": [
       "<PIL.Image.Image image mode=RGB size=32x32 at 0x7FA8E8031A90>"
      ]
     },
     "execution_count": 189,
     "metadata": {},
     "output_type": "execute_result"
    }
   ],
   "source": [
    "transforms.ToPILImage()(samples[5])"
   ]
  },
  {
   "cell_type": "code",
   "execution_count": 226,
   "id": "267ee3bb",
   "metadata": {},
   "outputs": [
    {
     "name": "stdout",
     "output_type": "stream",
     "text": [
      "6\n"
     ]
    }
   ],
   "source": [
    "img = trainset[0][0]\n",
    "print(trainset[0][1])\n",
    "convert = transforms.ToPILImage()"
   ]
  },
  {
   "cell_type": "code",
   "execution_count": 225,
   "id": "5d61cbeb",
   "metadata": {},
   "outputs": [
    {
     "data": {
      "text/plain": [
       "tensor([[-0.1610, -0.7338,  0.5196,  0.6811,  0.2999,  0.3889, -0.0834,  0.1896,\n",
       "         -0.7620, -0.3392]], grad_fn=<AddmmBackward0>)"
      ]
     },
     "execution_count": 225,
     "metadata": {},
     "output_type": "execute_result"
    }
   ],
   "source": [
    "surr((img + transforms.ToTensor()(res)).unsqueeze(0))"
   ]
  },
  {
   "cell_type": "code",
   "execution_count": 224,
   "id": "b103756a",
   "metadata": {},
   "outputs": [
    {
     "data": {
      "text/plain": [
       "tensor([[-0.1818, -0.6726,  0.4994,  0.6963,  0.2627,  0.3857, -0.0847,  0.1359,\n",
       "         -0.7484, -0.2928]], grad_fn=<AddmmBackward0>)"
      ]
     },
     "execution_count": 224,
     "metadata": {},
     "output_type": "execute_result"
    }
   ],
   "source": [
    "surr(img.unsqueeze(0))"
   ]
  },
  {
   "cell_type": "code",
   "execution_count": 230,
   "id": "09b05257",
   "metadata": {},
   "outputs": [
    {
     "data": {
      "text/plain": [
       "torch.Size([1, 3, 32, 32])"
      ]
     },
     "execution_count": 230,
     "metadata": {},
     "output_type": "execute_result"
    }
   ],
   "source": [
    "(img.unsqueeze(0) + transforms.ToTensor()(res).unsqueeze(0)).shape"
   ]
  },
  {
   "cell_type": "code",
   "execution_count": 233,
   "id": "c58e1be4",
   "metadata": {},
   "outputs": [
    {
     "data": {
      "text/plain": [
       "torch.Size([4, 3, 32, 32])"
      ]
     },
     "execution_count": 233,
     "metadata": {},
     "output_type": "execute_result"
    }
   ],
   "source": [
    "torch.stack([trainset[i][0] for i in range(4)]).shape"
   ]
  },
  {
   "cell_type": "code",
   "execution_count": 291,
   "id": "b08ce6ff",
   "metadata": {},
   "outputs": [],
   "source": [
    "with open('poison_examples/cifar10-transfer/narcissus_poisons/0/poisons.pickle', 'rb') as handle:\n",
    "    poisons = pickle.load(handle)\n",
    "with open('poison_examples/cifar10-transfer/narcissus_poisons/0/base_indices.pickle', 'rb') as handle:\n",
    "    base = pickle.load(handle)\n",
    "with open('poison_examples/cifar10-transfer/narcissus_poisons/0/target.pickle', 'rb') as handle:\n",
    "    target = pickle.load(handle)\n",
    "    "
   ]
  },
  {
   "cell_type": "code",
   "execution_count": 282,
   "id": "7422e422",
   "metadata": {},
   "outputs": [
    {
     "data": {
      "text/plain": [
       "tensor([[[0.1255, 0.1059, 0.1529,  ..., 0.0118, 0.0157, 0.1020],\n",
       "         [0.1098, 0.1020, 0.1294,  ..., 0.0000, 0.0471, 0.0980],\n",
       "         [0.0784, 0.1765, 0.2118,  ..., 0.0157, 0.0157, 0.0039],\n",
       "         ...,\n",
       "         [0.9765, 0.9569, 0.7804,  ..., 0.9608, 0.7059, 0.8157],\n",
       "         [0.9922, 0.9098, 0.6549,  ..., 0.9804, 0.7216, 0.6902],\n",
       "         [0.9451, 0.8863, 0.8941,  ..., 0.6863, 0.7216, 0.7059]],\n",
       "\n",
       "        [[0.3255, 0.2353, 0.3137,  ..., 0.0824, 0.0941, 0.2118],\n",
       "         [0.2510, 0.2941, 0.2902,  ..., 0.1098, 0.1647, 0.1686],\n",
       "         [0.1843, 0.2980, 0.4431,  ..., 0.1137, 0.0549, 0.0431],\n",
       "         ...,\n",
       "         [0.7961, 0.8039, 0.6784,  ..., 0.7804, 0.5647, 0.6902],\n",
       "         [0.8196, 0.7686, 0.5765,  ..., 0.8275, 0.5882, 0.5569],\n",
       "         [0.7333, 0.7412, 0.8235,  ..., 0.5608, 0.6000, 0.6118]],\n",
       "\n",
       "        [[0.1922, 0.1725, 0.2235,  ..., 0.0157, 0.0235, 0.1333],\n",
       "         [0.1686, 0.1647, 0.1922,  ..., 0.0039, 0.0549, 0.1137],\n",
       "         [0.1098, 0.2275, 0.2706,  ..., 0.0157, 0.0235, 0.0078],\n",
       "         ...,\n",
       "         [0.6510, 0.6745, 0.5529,  ..., 0.6196, 0.4196, 0.5569],\n",
       "         [0.6863, 0.6392, 0.4510,  ..., 0.6863, 0.4627, 0.4353],\n",
       "         [0.6745, 0.6039, 0.6706,  ..., 0.4549, 0.4941, 0.4941]]])"
      ]
     },
     "execution_count": 282,
     "metadata": {},
     "output_type": "execute_result"
    }
   ],
   "source": [
    "t(poisons[0][0])"
   ]
  },
  {
   "cell_type": "code",
   "execution_count": 290,
   "id": "c285fbe3",
   "metadata": {},
   "outputs": [
    {
     "data": {
      "text/plain": [
       "tensor(-16.0000)"
      ]
     },
     "execution_count": 290,
     "metadata": {},
     "output_type": "execute_result"
    }
   ],
   "source": [
    "torch.min(trainset[base[0]][0]-t(poisons[0][0]))*255"
   ]
  },
  {
   "cell_type": "code",
   "execution_count": 297,
   "id": "680d36c8",
   "metadata": {},
   "outputs": [
    {
     "data": {
      "image/png": "[encoded data removed]",
      "text/plain": [
       "<PIL.Image.Image image mode=RGB size=32x32 at 0x7FA8F4E5DAC0>"
      ]
     },
     "execution_count": 297,
     "metadata": {},
     "output_type": "execute_result"
    }
   ],
   "source": [
    "transforms.ToPILImage()(target[2])"
   ]
  },
  {
   "cell_type": "code",
   "execution_count": 311,
   "id": "f9653186",
   "metadata": {},
   "outputs": [],
   "source": [
    "trigger = target[2]\n",
    "convert = transforms.ToPILImage()"
   ]
  },
  {
   "cell_type": "code",
   "execution_count": 317,
   "id": "365750b8",
   "metadata": {},
   "outputs": [
    {
     "data": {
      "image/png": "[encoded data removed]",
      "text/plain": [
       "<PIL.Image.Image image mode=RGB size=32x32 at 0x7FA8F4E5DE50>"
      ]
     },
     "execution_count": 317,
     "metadata": {},
     "output_type": "execute_result"
    }
   ],
   "source": [
    "convert(torch.clamp(trainset[30330][0]+trigger,0,1))"
   ]
  },
  {
   "cell_type": "code",
   "execution_count": 309,
   "id": "0750acda",
   "metadata": {},
   "outputs": [
    {
     "data": {
      "image/png": "[encoded data removed]",
      "text/plain": [
       "<PIL.Image.Image image mode=RGB size=32x32 at 0x7FA8E81A1F10>"
      ]
     },
     "execution_count": 309,
     "metadata": {},
     "output_type": "execute_result"
    }
   ],
   "source": [
    "poisons[0][0]"
   ]
  },
  {
   "cell_type": "code",
   "execution_count": 325,
   "id": "092ea9c7",
   "metadata": {},
   "outputs": [
    {
     "data": {
      "text/plain": [
       "tensor(1.0627)"
      ]
     },
     "execution_count": 325,
     "metadata": {},
     "output_type": "execute_result"
    }
   ],
   "source": [
    "torch.max(trainset[30330][0]+trigger)"
   ]
  },
  {
   "cell_type": "code",
   "execution_count": 393,
   "id": "5708ec30",
   "metadata": {},
   "outputs": [
    {
     "data": {
      "text/plain": [
       "tensor([[[0.0157, 0.8902, 0.8863,  ..., 0.9529, 0.1255, 0.0039],\n",
       "         [0.0000, 0.8784, 0.8784,  ..., 0.0000, 0.0667, 0.9608],\n",
       "         [0.9451, 0.9608, 0.9961,  ..., 0.0941, 0.0314, 0.9137],\n",
       "         ...,\n",
       "         [1.0000, 0.0588, 0.0784,  ..., 0.8863, 0.0627, 0.0314],\n",
       "         [0.8863, 0.8902, 0.9294,  ..., 0.1255, 0.0235, 0.0275],\n",
       "         [0.0549, 0.9843, 0.0078,  ..., 0.0078, 0.8863, 0.8784]],\n",
       "\n",
       "        [[1.0000, 0.8784, 0.9725,  ..., 0.8941, 0.9333, 0.0980],\n",
       "         [0.1137, 0.8784, 0.8784,  ..., 0.8863, 0.0392, 0.9137],\n",
       "         [0.9608, 0.8902, 0.0118,  ..., 0.9922, 0.9137, 0.8941],\n",
       "         ...,\n",
       "         [0.9765, 0.9333, 0.0000,  ..., 0.8941, 0.9569, 0.0078],\n",
       "         [0.0627, 0.0118, 0.0471,  ..., 0.1255, 0.0078, 0.9294],\n",
       "         [0.9176, 0.1020, 0.9647,  ..., 0.9294, 0.8902, 0.8784]],\n",
       "\n",
       "        [[0.0275, 0.8784, 0.8784,  ..., 0.8784, 0.9961, 0.0078],\n",
       "         [0.0039, 0.8784, 0.8784,  ..., 0.8784, 0.0667, 0.9137],\n",
       "         [0.9451, 0.9569, 0.8784,  ..., 0.8784, 0.1020, 0.9882],\n",
       "         ...,\n",
       "         [0.0118, 0.0549, 0.1020,  ..., 0.9804, 0.0941, 0.9922],\n",
       "         [0.0314, 0.9294, 0.9647,  ..., 0.1255, 0.8941, 0.8784],\n",
       "         [0.1098, 0.0353, 1.0000,  ..., 0.0314, 0.9608, 0.8941]]])"
      ]
     },
     "execution_count": 393,
     "metadata": {},
     "output_type": "execute_result"
    }
   ],
   "source": [
    "t(res)"
   ]
  },
  {
   "cell_type": "code",
   "execution_count": 396,
   "id": "9ddc1c6e",
   "metadata": {},
   "outputs": [],
   "source": []
  },
  {
   "cell_type": "code",
   "execution_count": 397,
   "id": "97375f7a",
   "metadata": {},
   "outputs": [
    {
     "data": {
      "text/plain": [
       "4"
      ]
     },
     "execution_count": 397,
     "metadata": {},
     "output_type": "execute_result"
    }
   ],
   "source": []
  },
  {
   "cell_type": "code",
   "execution_count": null,
   "id": "6ad76e9a",
   "metadata": {},
   "outputs": [],
   "source": []
  }
 ],
 "metadata": {
  "kernelspec": {
   "display_name": "Python 3 (ipykernel)",
   "language": "python",
   "name": "python3"
  },
  "language_info": {
   "codemirror_mode": {
    "name": "ipython",
    "version": 3
   },
   "file_extension": ".py",
   "mimetype": "text/x-python",
   "name": "python",
   "nbconvert_exporter": "python",
   "pygments_lexer": "ipython3",
   "version": "3.9.7"
  }
 },
 "nbformat": 4,
 "nbformat_minor": 5
}
