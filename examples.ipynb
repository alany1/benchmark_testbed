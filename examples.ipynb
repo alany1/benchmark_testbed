{
 "cells": [
  {
   "cell_type": "markdown",
   "id": "69a991ec",
   "metadata": {},
   "source": [
    "# Examples of poison setups and Badnets implementation\n",
    "\n",
    "Cleaned up version of explore notebook"
   ]
  },
  {
   "cell_type": "code",
   "execution_count": 193,
   "id": "f84859c1",
   "metadata": {},
   "outputs": [],
   "source": [
    "import pickle\n",
    "import PIL\n",
    "from IPython.display import Image \n",
    "import torch, torchvision\n",
    "import learning_module"
   ]
  },
  {
   "cell_type": "code",
   "execution_count": 194,
   "id": "d0d38740",
   "metadata": {},
   "outputs": [],
   "source": [
    "#poison_setups = 'poison_setups/cifar10_transfer_learning.pickle'\n",
    "poison_setups = 'poison_setups/cifar10_from_scratch.pickle'\n",
    "#poison_setups = 'poison_setups/tinyimagenet_transfer_learning.pickle'\n",
    "#poison_setups = 'poison_setups/tinyimagenet_from_scratch.pickle'"
   ]
  },
  {
   "cell_type": "code",
   "execution_count": 195,
   "id": "3692789d",
   "metadata": {},
   "outputs": [],
   "source": [
    "with open(poison_setups, \"rb\") as handle:\n",
    "    setup_dicts = pickle.load(handle)"
   ]
  },
  {
   "cell_type": "code",
   "execution_count": 105,
   "id": "c0d75eec",
   "metadata": {},
   "outputs": [
    {
     "data": {
      "text/plain": [
       "{'target class': 7,\n",
       " 'target index': 7762,\n",
       " 'base class': 3,\n",
       " 'base indices': array([ 2386, 37215, 23942, 15836, 14070, 41601, 10209, 44252, 17912,\n",
       "        16273,  1785, 15106, 31740, 39885, 21727, 17614, 26244,  1059,\n",
       "         4796, 30204, 24174, 43438,  8786, 21832, 27938, 46605, 18442,\n",
       "        38485, 18462, 43685, 32350, 46371, 30058, 20337, 24803,  8467,\n",
       "        13253, 16703, 21501, 16405, 15016, 39399,  9856, 26009, 10870,\n",
       "        41168, 26660, 11809,  6700, 33236,  3286,   197, 11855,   998,\n",
       "        15872,  6596,  1696, 46070, 16360,  1098, 30806,  2127, 13471,\n",
       "        41513, 38048,  8916, 49944, 34579, 39461, 31900, 10929,  1841,\n",
       "        16796, 32085,  6716, 43472, 47681, 28772,  8224, 26609, 29793,\n",
       "        42492, 18373, 27222, 48040,  7483,  3514, 43841, 42740, 33262,\n",
       "        10321, 43981, 18186, 34334, 39921, 26598, 18412, 11976, 12681,\n",
       "        32142,  6493, 24192, 38444, 46205, 31141,  2348, 11040, 28738,\n",
       "        15278, 14730,  5407,  6905, 20413, 45082, 35464, 17529, 10565,\n",
       "        36222, 38383, 36900, 29561, 26575, 30862,  1554, 20630, 13091,\n",
       "        38097, 48524,  5870, 28773, 45211, 15156, 28135, 48592, 38400,\n",
       "        43767, 43832, 22865,  9166, 37350, 41597, 40399, 14590, 24922,\n",
       "        27270, 34155, 29001, 19617, 43490, 11291, 41918, 33238, 12050,\n",
       "        40611, 30015, 38647, 41639, 23884, 10186, 41521, 29084, 28067,\n",
       "        35427, 40165, 34243, 48132, 18486,  2383, 49157, 18329, 35101,\n",
       "        35772, 46950, 25218, 44896, 20525,  4083,  5610, 31676, 45380,\n",
       "         1685, 26557, 20465, 34889, 49619, 29936,  7220, 35500, 33978,\n",
       "        25738,  7469, 47204, 13297,  7123, 29685, 43779, 38472, 49790,\n",
       "        28554, 15383, 29255, 11668, 36159, 12118, 15210, 20289, 20631,\n",
       "         8158, 18684, 34184,  6284, 23401, 41998, 14703,  7006, 19994,\n",
       "        49054, 44819, 47933, 23322,   995, 26462, 33952, 38702, 44127,\n",
       "        46231,  7532,  4835, 46529,  8183, 13502, 37951,  7651, 11379,\n",
       "        32098, 12042, 28697,  5534,  4108, 38552, 44233, 13202, 16573,\n",
       "         6753, 26813, 33033,  8846, 33828,  6385, 19422, 17660, 42773,\n",
       "         7734, 15311, 20714, 25996, 38100, 43254, 30975,  7517, 19327,\n",
       "         7343, 17451, 45467, 43576, 34244,  7460, 30266, 22244, 46459,\n",
       "        34498, 27235, 21982, 23326, 49386, 26044, 17567, 47322, 10508,\n",
       "        21783, 26126, 42551, 22620,   445, 19005, 32264, 45038, 27608,\n",
       "        36366,  6961,  4887, 16070, 31295, 43971, 49691, 34689, 32846,\n",
       "        30789, 11188, 45251, 27298, 24154, 44376, 27880, 22929, 30059,\n",
       "        46886, 36043, 39980, 16661, 20704,  2174, 46157, 27467, 25676,\n",
       "        47526, 16035, 26472, 40922, 41903, 32555, 37669, 25185, 14018,\n",
       "        38068, 11447, 35246, 32685,  8822, 18422, 35754, 23266, 36000,\n",
       "        44513, 18582, 30708, 34061,  2627, 11836, 27559, 19780, 14578,\n",
       "        16561, 17672, 22025, 28839, 10527,  6402, 36601, 16851, 46432,\n",
       "         7122, 49896, 23541, 24348, 10518, 25081,  7667, 13748,  9794,\n",
       "          395,  4921,  8864, 43336, 29643,  7946, 28331, 26721,  1553,\n",
       "        38504, 29449, 37095, 13061, 22402, 24669, 45732,     9, 42800,\n",
       "        46094,  5877, 13222, 47062, 15129,  3391, 30653, 48585, 37863,\n",
       "        34517,  3807, 47942, 33092,  5450, 14125, 29159,  9968, 47439,\n",
       "        37163,  1511, 11449, 26336, 36990, 14091,  7171, 32813, 40764,\n",
       "        13302, 44047, 14485, 13247,  7478, 23033, 18584, 26111, 39897,\n",
       "        43784, 49222, 22135, 34479, 43813, 39021, 24903, 41845, 19864,\n",
       "        27432, 35889, 19093, 28529,  4089, 16502, 32621, 20378, 38984,\n",
       "         6492,  7498, 20345, 30347, 38147, 18570, 24147, 49835, 13595,\n",
       "        24618, 38880, 12886, 10534, 27993, 36027, 36273, 15083, 10441,\n",
       "        43776, 47132, 35437, 37271, 30886,  4149, 29982, 36779, 29395,\n",
       "        46688, 23270, 32405, 33810,   446, 38246, 25885, 25633, 49299,\n",
       "        12823,   922, 27619, 36970, 19381, 12007,  4772, 12671, 28050,\n",
       "         5545, 25997, 34997, 26965, 48907, 33159, 16746, 23815, 24022,\n",
       "         1121, 12278, 13991, 22994, 16438, 11628, 35704, 43313,  1076,\n",
       "         9145,  7603, 19820, 26711, 22549])}"
      ]
     },
     "execution_count": 105,
     "metadata": {},
     "output_type": "execute_result"
    }
   ],
   "source": [
    "setup_dicts[0]"
   ]
  },
  {
   "cell_type": "code",
   "execution_count": 7,
   "id": "83cc1dbb",
   "metadata": {},
   "outputs": [],
   "source": [
    "def getTrial(n, attack):\n",
    "    with open(f'poison_examples/cifar10-transfer/{attack}_poisons/num_poisons=25/{n}/base_indices.pickle','rb') as handle:\n",
    "        base = pickle.load(handle)\n",
    "    with open(f'poison_examples/cifar10-transfer/{attack}_poisons/num_poisons=25/{n}/target.pickle','rb') as handle:\n",
    "        target = pickle.load(handle)\n",
    "    with open(f'poison_examples/cifar10-transfer/{attack}_poisons/num_poisons=25/{n}/poisons.pickle','rb') as handle:\n",
    "        poisons= pickle.load(handle)\n",
    "    return base, target, poisons"
   ]
  },
  {
   "cell_type": "code",
   "execution_count": 9,
   "id": "44f6797a",
   "metadata": {},
   "outputs": [],
   "source": [
    "htbd_base, htbd_target, htbd_poisons = getTrial(0, 'htbd')"
   ]
  },
  {
   "cell_type": "code",
   "execution_count": 15,
   "id": "f0514bd2",
   "metadata": {},
   "outputs": [
    {
     "data": {
      "text/plain": [
       "array([33922, 11944, 30575, 17174, 42674,  5649, 24476, 13194, 24587,\n",
       "       42204,  8515, 43220, 17865,  4567, 24374, 39691, 43775, 28408,\n",
       "        4079, 48516, 40761, 41842, 35626, 49004, 25820])"
      ]
     },
     "execution_count": 15,
     "metadata": {},
     "output_type": "execute_result"
    }
   ],
   "source": [
    "htbd_base #Why don't these match with setup_dicts[0]?"
   ]
  },
  {
   "cell_type": "code",
   "execution_count": 21,
   "id": "4f776697",
   "metadata": {},
   "outputs": [],
   "source": [
    "badnets_base, badnets_target, badnets_poisons = getTrial(0, 'badnets')"
   ]
  },
  {
   "cell_type": "code",
   "execution_count": 23,
   "id": "705cdaf4",
   "metadata": {},
   "outputs": [
    {
     "data": {
      "text/plain": [
       "array([30330,  7829, 47673, 14780, 41050, 37670, 20223, 41973, 21599,\n",
       "       33265, 40426, 25213, 10643, 23609, 19553, 41843, 44560, 18517,\n",
       "       17023, 14400, 40330, 26767, 42366, 34367, 44798])"
      ]
     },
     "execution_count": 23,
     "metadata": {},
     "output_type": "execute_result"
    }
   ],
   "source": [
    "badnets_base #This matches with setup_dicts[0]"
   ]
  },
  {
   "cell_type": "code",
   "execution_count": 9,
   "id": "1c06568a",
   "metadata": {},
   "outputs": [
    {
     "ename": "NameError",
     "evalue": "name 'badnets_poisons' is not defined",
     "output_type": "error",
     "traceback": [
      "\u001b[0;31m---------------------------------------------------------------------------\u001b[0m",
      "\u001b[0;31mNameError\u001b[0m                                 Traceback (most recent call last)",
      "\u001b[0;32m/var/folders/w3/lngg3q_j3bjbdnsfznd4kvb80000gn/T/ipykernel_45808/1060440029.py\u001b[0m in \u001b[0;36m<module>\u001b[0;34m\u001b[0m\n\u001b[0;32m----> 1\u001b[0;31m \u001b[0mbadnets_poisons\u001b[0m\u001b[0;34m[\u001b[0m\u001b[0;36m0\u001b[0m\u001b[0;34m]\u001b[0m\u001b[0;34m[\u001b[0m\u001b[0;36m0\u001b[0m\u001b[0;34m]\u001b[0m\u001b[0;34m.\u001b[0m\u001b[0mshow\u001b[0m\u001b[0;34m(\u001b[0m\u001b[0;34m)\u001b[0m \u001b[0;31m#Yellow square trigger at top left corner\u001b[0m\u001b[0;34m\u001b[0m\u001b[0;34m\u001b[0m\u001b[0m\n\u001b[0m",
      "\u001b[0;31mNameError\u001b[0m: name 'badnets_poisons' is not defined"
     ]
    }
   ],
   "source": [
    "badnets_poisons[0][0].show() #Yellow square trigger at top left corner"
   ]
  },
  {
   "cell_type": "code",
   "execution_count": 8,
   "id": "ec29b1f1",
   "metadata": {},
   "outputs": [],
   "source": [
    "with open('poison_examples/cifar10-transfer/badnets_poisons_red/badnets_poisons/0/target.pickle', 'rb') as handle:\n",
    "    poisons = pickle.load(handle)\n"
   ]
  },
  {
   "cell_type": "code",
   "execution_count": 10,
   "id": "1c12134d",
   "metadata": {},
   "outputs": [],
   "source": [
    "from torchvision import transforms\n",
    "t = transforms.ToPILImage()\n",
    "\n"
   ]
  },
  {
   "cell_type": "code",
   "execution_count": 107,
   "id": "419d83a6",
   "metadata": {},
   "outputs": [],
   "source": [
    "with open('poison_examples/cifar10-scratch/clbd/0/poisons.pickle', 'rb') as handle:\n",
    "    poisons = pickle.load(handle)\n",
    "with open('poison_examples/cifar10-scratch/clbd/0/base_indices.pickle', 'rb') as handle:\n",
    "    base = pickle.load(handle)\n",
    "with open('poison_examples/cifar10-scratch/clbd_targeted_robust/0/poisons.pickle', 'rb') as handle:\n",
    "    robust_poisons = pickle.load(handle)\n",
    "with open('sample_folder/0/poisons.pickle', 'rb') as handle:\n",
    "    robust_poisons_new = pickle.load(handle)"
   ]
  },
  {
   "cell_type": "code",
   "execution_count": 115,
   "id": "526b0cee",
   "metadata": {},
   "outputs": [],
   "source": [
    "poisons[0][0].show()"
   ]
  },
  {
   "cell_type": "code",
   "execution_count": 72,
   "id": "5ca5fb71",
   "metadata": {},
   "outputs": [
    {
     "name": "stdout",
     "output_type": "stream",
     "text": [
      "Files already downloaded and verified\n"
     ]
    }
   ],
   "source": [
    "trainset = torchvision.datasets.CIFAR10(\n",
    "            root=\"./data\", train=True, download=True\n",
    "        )"
   ]
  },
  {
   "cell_type": "code",
   "execution_count": 116,
   "id": "9e67b7c0",
   "metadata": {},
   "outputs": [
    {
     "data": {
      "text/plain": [
       "tensor(33.0000)"
      ]
     },
     "execution_count": 116,
     "metadata": {},
     "output_type": "execute_result"
    }
   ],
   "source": [
    "torch.max(transforms.ToTensor()(robust_poisons_new[321][0]) - transforms.ToTensor()(poisons[321][0]))*255"
   ]
  },
  {
   "cell_type": "code",
   "execution_count": 111,
   "id": "1a2b3bcd",
   "metadata": {},
   "outputs": [],
   "source": [
    "trainset[base[0]][0].show()"
   ]
  },
  {
   "cell_type": "code",
   "execution_count": 78,
   "id": "3b575dab",
   "metadata": {},
   "outputs": [
    {
     "data": {
      "text/plain": [
       "[(<PIL.Image.Image image mode=RGB size=32x32 at 0x7FA8FB9E0B50>, 3),\n",
       " (<PIL.Image.Image image mode=RGB size=32x32 at 0x7FA8FB9E0250>, 3),\n",
       " (<PIL.Image.Image image mode=RGB size=32x32 at 0x7FA8FB9EBE20>, 3),\n",
       " (<PIL.Image.Image image mode=RGB size=32x32 at 0x7FA914FE6EB0>, 3),\n",
       " (<PIL.Image.Image image mode=RGB size=32x32 at 0x7FA914FE6910>, 3),\n",
       " (<PIL.Image.Image image mode=RGB size=32x32 at 0x7FA914FE63D0>, 3),\n",
       " (<PIL.Image.Image image mode=RGB size=32x32 at 0x7FA914FE68E0>, 3),\n",
       " (<PIL.Image.Image image mode=RGB size=32x32 at 0x7FA8FB9E5A30>, 3),\n",
       " (<PIL.Image.Image image mode=RGB size=32x32 at 0x7FA8FB9E5E20>, 3),\n",
       " (<PIL.Image.Image image mode=RGB size=32x32 at 0x7FA8FB9E56D0>, 3),\n",
       " (<PIL.Image.Image image mode=RGB size=32x32 at 0x7FA8FB9E50A0>, 3),\n",
       " (<PIL.Image.Image image mode=RGB size=32x32 at 0x7FA8FB9DB070>, 3),\n",
       " (<PIL.Image.Image image mode=RGB size=32x32 at 0x7FA8FB9DB2B0>, 3),\n",
       " (<PIL.Image.Image image mode=RGB size=32x32 at 0x7FA8FB9DB2E0>, 3),\n",
       " (<PIL.Image.Image image mode=RGB size=32x32 at 0x7FA8FB9DB310>, 3),\n",
       " (<PIL.Image.Image image mode=RGB size=32x32 at 0x7FA8FB9DB130>, 3),\n",
       " (<PIL.Image.Image image mode=RGB size=32x32 at 0x7FA8FB9DB1F0>, 3),\n",
       " (<PIL.Image.Image image mode=RGB size=32x32 at 0x7FA8FB9DB220>, 3),\n",
       " (<PIL.Image.Image image mode=RGB size=32x32 at 0x7FA8FB9DB1C0>, 3),\n",
       " (<PIL.Image.Image image mode=RGB size=32x32 at 0x7FA8FB9DB580>, 3),\n",
       " (<PIL.Image.Image image mode=RGB size=32x32 at 0x7FA8FB9DB5B0>, 3),\n",
       " (<PIL.Image.Image image mode=RGB size=32x32 at 0x7FA8FB9DB640>, 3),\n",
       " (<PIL.Image.Image image mode=RGB size=32x32 at 0x7FA8FB9DBC40>, 3),\n",
       " (<PIL.Image.Image image mode=RGB size=32x32 at 0x7FA8FB9DBC70>, 3),\n",
       " (<PIL.Image.Image image mode=RGB size=32x32 at 0x7FA8FB9DBCA0>, 3),\n",
       " (<PIL.Image.Image image mode=RGB size=32x32 at 0x7FA8FB9DBCD0>, 3),\n",
       " (<PIL.Image.Image image mode=RGB size=32x32 at 0x7FA8FB9DBD00>, 3),\n",
       " (<PIL.Image.Image image mode=RGB size=32x32 at 0x7FA8FB9DBD60>, 3),\n",
       " (<PIL.Image.Image image mode=RGB size=32x32 at 0x7FA8FB9DB760>, 3),\n",
       " (<PIL.Image.Image image mode=RGB size=32x32 at 0x7FA8FB9DB730>, 3),\n",
       " (<PIL.Image.Image image mode=RGB size=32x32 at 0x7FA8FB9DB6A0>, 3),\n",
       " (<PIL.Image.Image image mode=RGB size=32x32 at 0x7FA8FB9DB4F0>, 3),\n",
       " (<PIL.Image.Image image mode=RGB size=32x32 at 0x7FA8FB9DB4C0>, 3),\n",
       " (<PIL.Image.Image image mode=RGB size=32x32 at 0x7FA8FB9DB490>, 3),\n",
       " (<PIL.Image.Image image mode=RGB size=32x32 at 0x7FA8FB9DB460>, 3),\n",
       " (<PIL.Image.Image image mode=RGB size=32x32 at 0x7FA8FB9DB430>, 3),\n",
       " (<PIL.Image.Image image mode=RGB size=32x32 at 0x7FA8FB9DB3A0>, 3),\n",
       " (<PIL.Image.Image image mode=RGB size=32x32 at 0x7FA8FB9DB400>, 3),\n",
       " (<PIL.Image.Image image mode=RGB size=32x32 at 0x7FA8FB9DB3D0>, 3),\n",
       " (<PIL.Image.Image image mode=RGB size=32x32 at 0x7FA8FB9DB880>, 3),\n",
       " (<PIL.Image.Image image mode=RGB size=32x32 at 0x7FA8FB9DB8B0>, 3),\n",
       " (<PIL.Image.Image image mode=RGB size=32x32 at 0x7FA8FB9DB8E0>, 3),\n",
       " (<PIL.Image.Image image mode=RGB size=32x32 at 0x7FA8FB9DB910>, 3),\n",
       " (<PIL.Image.Image image mode=RGB size=32x32 at 0x7FA8FB9DB940>, 3),\n",
       " (<PIL.Image.Image image mode=RGB size=32x32 at 0x7FA8FB9DBDC0>, 3),\n",
       " (<PIL.Image.Image image mode=RGB size=32x32 at 0x7FA8FB9DBE50>, 3),\n",
       " (<PIL.Image.Image image mode=RGB size=32x32 at 0x7FA8FB9DBB80>, 3),\n",
       " (<PIL.Image.Image image mode=RGB size=32x32 at 0x7FA8FB9F9040>, 3),\n",
       " (<PIL.Image.Image image mode=RGB size=32x32 at 0x7FA8FB9F9070>, 3),\n",
       " (<PIL.Image.Image image mode=RGB size=32x32 at 0x7FA8FB9DB0A0>, 3),\n",
       " (<PIL.Image.Image image mode=RGB size=32x32 at 0x7FA8FB9DB0D0>, 3),\n",
       " (<PIL.Image.Image image mode=RGB size=32x32 at 0x7FA8FB9DB100>, 3),\n",
       " (<PIL.Image.Image image mode=RGB size=32x32 at 0x7FA91072B250>, 3),\n",
       " (<PIL.Image.Image image mode=RGB size=32x32 at 0x7FA8FB9EBE80>, 3),\n",
       " (<PIL.Image.Image image mode=RGB size=32x32 at 0x7FA8FB9EBDC0>, 3),\n",
       " (<PIL.Image.Image image mode=RGB size=32x32 at 0x7FA8FB9EBFD0>, 3),\n",
       " (<PIL.Image.Image image mode=RGB size=32x32 at 0x7FA8FB9EB6D0>, 3),\n",
       " (<PIL.Image.Image image mode=RGB size=32x32 at 0x7FA8FB9EBEB0>, 3),\n",
       " (<PIL.Image.Image image mode=RGB size=32x32 at 0x7FA8FB9EB940>, 3),\n",
       " (<PIL.Image.Image image mode=RGB size=32x32 at 0x7FA8FB9EBC10>, 3),\n",
       " (<PIL.Image.Image image mode=RGB size=32x32 at 0x7FA8FB9EBF40>, 3),\n",
       " (<PIL.Image.Image image mode=RGB size=32x32 at 0x7FA8FB9EB970>, 3),\n",
       " (<PIL.Image.Image image mode=RGB size=32x32 at 0x7FA8FB9EB9A0>, 3),\n",
       " (<PIL.Image.Image image mode=RGB size=32x32 at 0x7FA8FB9EBFA0>, 3),\n",
       " (<PIL.Image.Image image mode=RGB size=32x32 at 0x7FA8FB9EBF10>, 3),\n",
       " (<PIL.Image.Image image mode=RGB size=32x32 at 0x7FA8FB9EBBB0>, 3),\n",
       " (<PIL.Image.Image image mode=RGB size=32x32 at 0x7FA8FB9EBE50>, 3),\n",
       " (<PIL.Image.Image image mode=RGB size=32x32 at 0x7FA8FB9EBD30>, 3),\n",
       " (<PIL.Image.Image image mode=RGB size=32x32 at 0x7FA8FB9EBD60>, 3),\n",
       " (<PIL.Image.Image image mode=RGB size=32x32 at 0x7FA8FB9EBCD0>, 3),\n",
       " (<PIL.Image.Image image mode=RGB size=32x32 at 0x7FA8FB9EBD00>, 3),\n",
       " (<PIL.Image.Image image mode=RGB size=32x32 at 0x7FA8FB9EBCA0>, 3),\n",
       " (<PIL.Image.Image image mode=RGB size=32x32 at 0x7FA8FB9EB910>, 3),\n",
       " (<PIL.Image.Image image mode=RGB size=32x32 at 0x7FA8FB9EBD90>, 3),\n",
       " (<PIL.Image.Image image mode=RGB size=32x32 at 0x7FA8FB9EB760>, 3),\n",
       " (<PIL.Image.Image image mode=RGB size=32x32 at 0x7FA8FB9EBB50>, 3),\n",
       " (<PIL.Image.Image image mode=RGB size=32x32 at 0x7FA8FB9EBC70>, 3),\n",
       " (<PIL.Image.Image image mode=RGB size=32x32 at 0x7FA8FB9EB7F0>, 3),\n",
       " (<PIL.Image.Image image mode=RGB size=32x32 at 0x7FA8FB9EBAC0>, 3),\n",
       " (<PIL.Image.Image image mode=RGB size=32x32 at 0x7FA8FB9EBAF0>, 3),\n",
       " (<PIL.Image.Image image mode=RGB size=32x32 at 0x7FA8FB9EBA00>, 3),\n",
       " (<PIL.Image.Image image mode=RGB size=32x32 at 0x7FA8FB9EB9D0>, 3),\n",
       " (<PIL.Image.Image image mode=RGB size=32x32 at 0x7FA8FB9EB250>, 3),\n",
       " (<PIL.Image.Image image mode=RGB size=32x32 at 0x7FA8FB9EBA30>, 3),\n",
       " (<PIL.Image.Image image mode=RGB size=32x32 at 0x7FA8FB9EB8B0>, 3),\n",
       " (<PIL.Image.Image image mode=RGB size=32x32 at 0x7FA8FB9EBB80>, 3),\n",
       " (<PIL.Image.Image image mode=RGB size=32x32 at 0x7FA8FB9EBB20>, 3),\n",
       " (<PIL.Image.Image image mode=RGB size=32x32 at 0x7FA8FB9EB880>, 3),\n",
       " (<PIL.Image.Image image mode=RGB size=32x32 at 0x7FA8FB9EB8E0>, 3),\n",
       " (<PIL.Image.Image image mode=RGB size=32x32 at 0x7FA8FB9EBA60>, 3),\n",
       " (<PIL.Image.Image image mode=RGB size=32x32 at 0x7FA8FB9EB130>, 3),\n",
       " (<PIL.Image.Image image mode=RGB size=32x32 at 0x7FA8FB9EB520>, 3),\n",
       " (<PIL.Image.Image image mode=RGB size=32x32 at 0x7FA8FB9EB5B0>, 3),\n",
       " (<PIL.Image.Image image mode=RGB size=32x32 at 0x7FA8FB9EB400>, 3),\n",
       " (<PIL.Image.Image image mode=RGB size=32x32 at 0x7FA8FB9EB490>, 3),\n",
       " (<PIL.Image.Image image mode=RGB size=32x32 at 0x7FA8FB9EB0A0>, 3),\n",
       " (<PIL.Image.Image image mode=RGB size=32x32 at 0x7FA8FB9EB370>, 3),\n",
       " (<PIL.Image.Image image mode=RGB size=32x32 at 0x7FA8FB9EB640>, 3),\n",
       " (<PIL.Image.Image image mode=RGB size=32x32 at 0x7FA8FB9EB1C0>, 3),\n",
       " (<PIL.Image.Image image mode=RGB size=32x32 at 0x7FA8FB9EB2E0>, 3),\n",
       " (<PIL.Image.Image image mode=RGB size=32x32 at 0x7FA914F58D30>, 3),\n",
       " (<PIL.Image.Image image mode=RGB size=32x32 at 0x7FA914F58CA0>, 3),\n",
       " (<PIL.Image.Image image mode=RGB size=32x32 at 0x7FA914F58CD0>, 3),\n",
       " (<PIL.Image.Image image mode=RGB size=32x32 at 0x7FA914F58C10>, 3),\n",
       " (<PIL.Image.Image image mode=RGB size=32x32 at 0x7FA914FE65B0>, 3),\n",
       " (<PIL.Image.Image image mode=RGB size=32x32 at 0x7FA914FE6340>, 3),\n",
       " (<PIL.Image.Image image mode=RGB size=32x32 at 0x7FA914FE64F0>, 3),\n",
       " (<PIL.Image.Image image mode=RGB size=32x32 at 0x7FA914FE6F10>, 3),\n",
       " (<PIL.Image.Image image mode=RGB size=32x32 at 0x7FA914FE6D30>, 3),\n",
       " (<PIL.Image.Image image mode=RGB size=32x32 at 0x7FA914FE6580>, 3),\n",
       " (<PIL.Image.Image image mode=RGB size=32x32 at 0x7FA914FE63A0>, 3),\n",
       " (<PIL.Image.Image image mode=RGB size=32x32 at 0x7FA914FE6A90>, 3),\n",
       " (<PIL.Image.Image image mode=RGB size=32x32 at 0x7FA914FE6D90>, 3),\n",
       " (<PIL.Image.Image image mode=RGB size=32x32 at 0x7FA914FE6B20>, 3),\n",
       " (<PIL.Image.Image image mode=RGB size=32x32 at 0x7FA914FE6640>, 3),\n",
       " (<PIL.Image.Image image mode=RGB size=32x32 at 0x7FA914FE6E80>, 3),\n",
       " (<PIL.Image.Image image mode=RGB size=32x32 at 0x7FA914FE6A30>, 3),\n",
       " (<PIL.Image.Image image mode=RGB size=32x32 at 0x7FA914FE69A0>, 3),\n",
       " (<PIL.Image.Image image mode=RGB size=32x32 at 0x7FA914FE66D0>, 3),\n",
       " (<PIL.Image.Image image mode=RGB size=32x32 at 0x7FA914FE6FA0>, 3),\n",
       " (<PIL.Image.Image image mode=RGB size=32x32 at 0x7FA914FE6310>, 3),\n",
       " (<PIL.Image.Image image mode=RGB size=32x32 at 0x7FA914FE6400>, 3),\n",
       " (<PIL.Image.Image image mode=RGB size=32x32 at 0x7FA914FE6F40>, 3),\n",
       " (<PIL.Image.Image image mode=RGB size=32x32 at 0x7FA914FE6790>, 3),\n",
       " (<PIL.Image.Image image mode=RGB size=32x32 at 0x7FA914FE66A0>, 3),\n",
       " (<PIL.Image.Image image mode=RGB size=32x32 at 0x7FA914FE6CD0>, 3),\n",
       " (<PIL.Image.Image image mode=RGB size=32x32 at 0x7FA914FE68B0>, 3),\n",
       " (<PIL.Image.Image image mode=RGB size=32x32 at 0x7FA914FE6B50>, 3),\n",
       " (<PIL.Image.Image image mode=RGB size=32x32 at 0x7FA910737A30>, 3),\n",
       " (<PIL.Image.Image image mode=RGB size=32x32 at 0x7FA8FB97AB80>, 3),\n",
       " (<PIL.Image.Image image mode=RGB size=32x32 at 0x7FA8FB97A490>, 3),\n",
       " (<PIL.Image.Image image mode=RGB size=32x32 at 0x7FA8FB97A2E0>, 3),\n",
       " (<PIL.Image.Image image mode=RGB size=32x32 at 0x7FA8FB97A370>, 3),\n",
       " (<PIL.Image.Image image mode=RGB size=32x32 at 0x7FA8FB97A430>, 3),\n",
       " (<PIL.Image.Image image mode=RGB size=32x32 at 0x7FA8FB97AF40>, 3),\n",
       " (<PIL.Image.Image image mode=RGB size=32x32 at 0x7FA8FB97AD00>, 3),\n",
       " (<PIL.Image.Image image mode=RGB size=32x32 at 0x7FA8FB97A3A0>, 3),\n",
       " (<PIL.Image.Image image mode=RGB size=32x32 at 0x7FA8FB97AEE0>, 3),\n",
       " (<PIL.Image.Image image mode=RGB size=32x32 at 0x7FA8FB97A9D0>, 3),\n",
       " (<PIL.Image.Image image mode=RGB size=32x32 at 0x7FA8FB97A6A0>, 3),\n",
       " (<PIL.Image.Image image mode=RGB size=32x32 at 0x7FA8FB97A670>, 3),\n",
       " (<PIL.Image.Image image mode=RGB size=32x32 at 0x7FA8FB97A280>, 3),\n",
       " (<PIL.Image.Image image mode=RGB size=32x32 at 0x7FA8FB97ADF0>, 3),\n",
       " (<PIL.Image.Image image mode=RGB size=32x32 at 0x7FA8FB97A070>, 3),\n",
       " (<PIL.Image.Image image mode=RGB size=32x32 at 0x7FA8FB97A730>, 3),\n",
       " (<PIL.Image.Image image mode=RGB size=32x32 at 0x7FA8FB97A0A0>, 3),\n",
       " (<PIL.Image.Image image mode=RGB size=32x32 at 0x7FA8FB97A880>, 3),\n",
       " (<PIL.Image.Image image mode=RGB size=32x32 at 0x7FA8FB97A040>, 3),\n",
       " (<PIL.Image.Image image mode=RGB size=32x32 at 0x7FA8FB97AE80>, 3),\n",
       " (<PIL.Image.Image image mode=RGB size=32x32 at 0x7FA8FB97A700>, 3),\n",
       " (<PIL.Image.Image image mode=RGB size=32x32 at 0x7FA8FB97A250>, 3),\n",
       " (<PIL.Image.Image image mode=RGB size=32x32 at 0x7FA8FB97AAF0>, 3),\n",
       " (<PIL.Image.Image image mode=RGB size=32x32 at 0x7FA8FB97A190>, 3),\n",
       " (<PIL.Image.Image image mode=RGB size=32x32 at 0x7FA8FB97AFD0>, 3),\n",
       " (<PIL.Image.Image image mode=RGB size=32x32 at 0x7FA8FB97AD60>, 3),\n",
       " (<PIL.Image.Image image mode=RGB size=32x32 at 0x7FA8FB9E0880>, 3),\n",
       " (<PIL.Image.Image image mode=RGB size=32x32 at 0x7FA8FB9E0D90>, 3),\n",
       " (<PIL.Image.Image image mode=RGB size=32x32 at 0x7FA8FB9E0F40>, 3),\n",
       " (<PIL.Image.Image image mode=RGB size=32x32 at 0x7FA8FB9E0FD0>, 3),\n",
       " (<PIL.Image.Image image mode=RGB size=32x32 at 0x7FA8FB9E0A30>, 3),\n",
       " (<PIL.Image.Image image mode=RGB size=32x32 at 0x7FA8FB9E0AC0>, 3),\n",
       " (<PIL.Image.Image image mode=RGB size=32x32 at 0x7FA8FB9E00A0>, 3),\n",
       " (<PIL.Image.Image image mode=RGB size=32x32 at 0x7FA8FB9E0490>, 3),\n",
       " (<PIL.Image.Image image mode=RGB size=32x32 at 0x7FA8FB9E01C0>, 3),\n",
       " (<PIL.Image.Image image mode=RGB size=32x32 at 0x7FA8FB9E0640>, 3),\n",
       " (<PIL.Image.Image image mode=RGB size=32x32 at 0x7FA8FB9E0BE0>, 3),\n",
       " (<PIL.Image.Image image mode=RGB size=32x32 at 0x7FA8FB9E09A0>, 3),\n",
       " (<PIL.Image.Image image mode=RGB size=32x32 at 0x7FA8FB9E0E20>, 3),\n",
       " (<PIL.Image.Image image mode=RGB size=32x32 at 0x7FA8FB9E02E0>, 3),\n",
       " (<PIL.Image.Image image mode=RGB size=32x32 at 0x7FA8FB9E51C0>, 3),\n",
       " (<PIL.Image.Image image mode=RGB size=32x32 at 0x7FA8FB9E55B0>, 3),\n",
       " (<PIL.Image.Image image mode=RGB size=32x32 at 0x7FA8FB9E5F40>, 3),\n",
       " (<PIL.Image.Image image mode=RGB size=32x32 at 0x7FA8FB9E5640>, 3),\n",
       " (<PIL.Image.Image image mode=RGB size=32x32 at 0x7FA8FB9E5FD0>, 3),\n",
       " (<PIL.Image.Image image mode=RGB size=32x32 at 0x7FA8FB9E59A0>, 3),\n",
       " (<PIL.Image.Image image mode=RGB size=32x32 at 0x7FA8FB9E5250>, 3),\n",
       " (<PIL.Image.Image image mode=RGB size=32x32 at 0x7FA8FB9E5910>, 3),\n",
       " (<PIL.Image.Image image mode=RGB size=32x32 at 0x7FA8FB9E5370>, 3),\n",
       " (<PIL.Image.Image image mode=RGB size=32x32 at 0x7FA8FB9E52E0>, 3),\n",
       " (<PIL.Image.Image image mode=RGB size=32x32 at 0x7FA8FB9E5880>, 3),\n",
       " (<PIL.Image.Image image mode=RGB size=32x32 at 0x7FA8FB9E5130>, 3),\n",
       " (<PIL.Image.Image image mode=RGB size=32x32 at 0x7FA8FB9E5C70>, 3),\n",
       " (<PIL.Image.Image image mode=RGB size=32x32 at 0x7FA8FB9E5D00>, 3),\n",
       " (<PIL.Image.Image image mode=RGB size=32x32 at 0x7FA8FB9E5B50>, 3),\n",
       " (<PIL.Image.Image image mode=RGB size=32x32 at 0x7FA8FB9E5BE0>, 3),\n",
       " (<PIL.Image.Image image mode=RGB size=32x32 at 0x7FA8FB9E5760>, 3),\n",
       " (<PIL.Image.Image image mode=RGB size=32x32 at 0x7FA8FB9E5AC0>, 3),\n",
       " (<PIL.Image.Image image mode=RGB size=32x32 at 0x7FA8FB9E5490>, 3),\n",
       " (<PIL.Image.Image image mode=RGB size=32x32 at 0x7FA8FB9E5EB0>, 3),\n",
       " (<PIL.Image.Image image mode=RGB size=32x32 at 0x7FA8FB9E5D90>, 3),\n",
       " (<PIL.Image.Image image mode=RGB size=32x32 at 0x7FA8FB9E5520>, 3),\n",
       " (<PIL.Image.Image image mode=RGB size=32x32 at 0x7FA8FB9E5400>, 3),\n",
       " (<PIL.Image.Image image mode=RGB size=32x32 at 0x7FA8FB9E57F0>, 3),\n",
       " (<PIL.Image.Image image mode=RGB size=32x32 at 0x7FA8FB9F90A0>, 3),\n",
       " (<PIL.Image.Image image mode=RGB size=32x32 at 0x7FA8FB9F90D0>, 3),\n",
       " (<PIL.Image.Image image mode=RGB size=32x32 at 0x7FA8FB9F9100>, 3),\n",
       " (<PIL.Image.Image image mode=RGB size=32x32 at 0x7FA8FB9F9130>, 3),\n",
       " (<PIL.Image.Image image mode=RGB size=32x32 at 0x7FA8FB9F9160>, 3),\n",
       " (<PIL.Image.Image image mode=RGB size=32x32 at 0x7FA8FB9F9190>, 3),\n",
       " (<PIL.Image.Image image mode=RGB size=32x32 at 0x7FA8FB9F91C0>, 3),\n",
       " (<PIL.Image.Image image mode=RGB size=32x32 at 0x7FA8FB9F91F0>, 3),\n",
       " (<PIL.Image.Image image mode=RGB size=32x32 at 0x7FA8FB9F9220>, 3),\n",
       " (<PIL.Image.Image image mode=RGB size=32x32 at 0x7FA8FB9F9250>, 3),\n",
       " (<PIL.Image.Image image mode=RGB size=32x32 at 0x7FA8FB9F9280>, 3),\n",
       " (<PIL.Image.Image image mode=RGB size=32x32 at 0x7FA8FB9F92B0>, 3),\n",
       " (<PIL.Image.Image image mode=RGB size=32x32 at 0x7FA8FB9F92E0>, 3),\n",
       " (<PIL.Image.Image image mode=RGB size=32x32 at 0x7FA8FB9F9310>, 3),\n",
       " (<PIL.Image.Image image mode=RGB size=32x32 at 0x7FA8FB9F9340>, 3),\n",
       " (<PIL.Image.Image image mode=RGB size=32x32 at 0x7FA8FB9F9370>, 3),\n",
       " (<PIL.Image.Image image mode=RGB size=32x32 at 0x7FA8FB9F93A0>, 3),\n",
       " (<PIL.Image.Image image mode=RGB size=32x32 at 0x7FA8FB9F93D0>, 3),\n",
       " (<PIL.Image.Image image mode=RGB size=32x32 at 0x7FA8FB9F9400>, 3),\n",
       " (<PIL.Image.Image image mode=RGB size=32x32 at 0x7FA8FB9F9430>, 3),\n",
       " (<PIL.Image.Image image mode=RGB size=32x32 at 0x7FA8FB9F9460>, 3),\n",
       " (<PIL.Image.Image image mode=RGB size=32x32 at 0x7FA8FB9F9490>, 3),\n",
       " (<PIL.Image.Image image mode=RGB size=32x32 at 0x7FA8FB9F94C0>, 3),\n",
       " (<PIL.Image.Image image mode=RGB size=32x32 at 0x7FA8FB9F94F0>, 3),\n",
       " (<PIL.Image.Image image mode=RGB size=32x32 at 0x7FA8FB9F9520>, 3),\n",
       " (<PIL.Image.Image image mode=RGB size=32x32 at 0x7FA8FB9F9550>, 3),\n",
       " (<PIL.Image.Image image mode=RGB size=32x32 at 0x7FA8FB9F9580>, 3),\n",
       " (<PIL.Image.Image image mode=RGB size=32x32 at 0x7FA8FB9F95B0>, 3),\n",
       " (<PIL.Image.Image image mode=RGB size=32x32 at 0x7FA8FB9F95E0>, 3),\n",
       " (<PIL.Image.Image image mode=RGB size=32x32 at 0x7FA8FB9F9610>, 3),\n",
       " (<PIL.Image.Image image mode=RGB size=32x32 at 0x7FA8FB9F9640>, 3),\n",
       " (<PIL.Image.Image image mode=RGB size=32x32 at 0x7FA8FB9F9670>, 3),\n",
       " (<PIL.Image.Image image mode=RGB size=32x32 at 0x7FA8FB9F96A0>, 3),\n",
       " (<PIL.Image.Image image mode=RGB size=32x32 at 0x7FA8FB9F96D0>, 3),\n",
       " (<PIL.Image.Image image mode=RGB size=32x32 at 0x7FA8FB9F9700>, 3),\n",
       " (<PIL.Image.Image image mode=RGB size=32x32 at 0x7FA8FB9F9730>, 3),\n",
       " (<PIL.Image.Image image mode=RGB size=32x32 at 0x7FA8FB9F9760>, 3),\n",
       " (<PIL.Image.Image image mode=RGB size=32x32 at 0x7FA8FB9F9790>, 3),\n",
       " (<PIL.Image.Image image mode=RGB size=32x32 at 0x7FA8FB9F97C0>, 3),\n",
       " (<PIL.Image.Image image mode=RGB size=32x32 at 0x7FA8FB9F97F0>, 3),\n",
       " (<PIL.Image.Image image mode=RGB size=32x32 at 0x7FA8FB9F9820>, 3),\n",
       " (<PIL.Image.Image image mode=RGB size=32x32 at 0x7FA8FB9F9850>, 3),\n",
       " (<PIL.Image.Image image mode=RGB size=32x32 at 0x7FA8FB9F9880>, 3),\n",
       " (<PIL.Image.Image image mode=RGB size=32x32 at 0x7FA8FB9F98B0>, 3),\n",
       " (<PIL.Image.Image image mode=RGB size=32x32 at 0x7FA8FB9F98E0>, 3),\n",
       " (<PIL.Image.Image image mode=RGB size=32x32 at 0x7FA8FB9F9910>, 3),\n",
       " (<PIL.Image.Image image mode=RGB size=32x32 at 0x7FA8FB9F9940>, 3),\n",
       " (<PIL.Image.Image image mode=RGB size=32x32 at 0x7FA8FB9F9970>, 3),\n",
       " (<PIL.Image.Image image mode=RGB size=32x32 at 0x7FA8FB9F99A0>, 3),\n",
       " (<PIL.Image.Image image mode=RGB size=32x32 at 0x7FA8FB9F99D0>, 3),\n",
       " (<PIL.Image.Image image mode=RGB size=32x32 at 0x7FA8FB9F9A00>, 3),\n",
       " (<PIL.Image.Image image mode=RGB size=32x32 at 0x7FA8FB9F9A30>, 3),\n",
       " (<PIL.Image.Image image mode=RGB size=32x32 at 0x7FA8FB9F9A60>, 3),\n",
       " (<PIL.Image.Image image mode=RGB size=32x32 at 0x7FA8FB9F9A90>, 3),\n",
       " (<PIL.Image.Image image mode=RGB size=32x32 at 0x7FA8FB9F9AC0>, 3),\n",
       " (<PIL.Image.Image image mode=RGB size=32x32 at 0x7FA8FB9F9AF0>, 3),\n",
       " (<PIL.Image.Image image mode=RGB size=32x32 at 0x7FA8FB9F9B20>, 3),\n",
       " (<PIL.Image.Image image mode=RGB size=32x32 at 0x7FA8FB9F9B50>, 3),\n",
       " (<PIL.Image.Image image mode=RGB size=32x32 at 0x7FA8FB9F9B80>, 3),\n",
       " (<PIL.Image.Image image mode=RGB size=32x32 at 0x7FA8FB9F9BB0>, 3),\n",
       " (<PIL.Image.Image image mode=RGB size=32x32 at 0x7FA8FB9F9BE0>, 3),\n",
       " (<PIL.Image.Image image mode=RGB size=32x32 at 0x7FA8FB9F9C10>, 3),\n",
       " (<PIL.Image.Image image mode=RGB size=32x32 at 0x7FA8FB9F9C40>, 3),\n",
       " (<PIL.Image.Image image mode=RGB size=32x32 at 0x7FA8FB9F9C70>, 3),\n",
       " (<PIL.Image.Image image mode=RGB size=32x32 at 0x7FA8FB9F9CA0>, 3),\n",
       " (<PIL.Image.Image image mode=RGB size=32x32 at 0x7FA8FB9F9CD0>, 3),\n",
       " (<PIL.Image.Image image mode=RGB size=32x32 at 0x7FA8FB9F9D00>, 3),\n",
       " (<PIL.Image.Image image mode=RGB size=32x32 at 0x7FA8FB9F9D30>, 3),\n",
       " (<PIL.Image.Image image mode=RGB size=32x32 at 0x7FA8FB9F9D60>, 3),\n",
       " (<PIL.Image.Image image mode=RGB size=32x32 at 0x7FA8FB9F9D90>, 3),\n",
       " (<PIL.Image.Image image mode=RGB size=32x32 at 0x7FA8FB9F9DC0>, 3),\n",
       " (<PIL.Image.Image image mode=RGB size=32x32 at 0x7FA8FB9F9DF0>, 3),\n",
       " (<PIL.Image.Image image mode=RGB size=32x32 at 0x7FA8FB9F9E20>, 3),\n",
       " (<PIL.Image.Image image mode=RGB size=32x32 at 0x7FA8FB9F9E50>, 3),\n",
       " (<PIL.Image.Image image mode=RGB size=32x32 at 0x7FA8FB9F9E80>, 3),\n",
       " (<PIL.Image.Image image mode=RGB size=32x32 at 0x7FA8FB9F9EB0>, 3),\n",
       " (<PIL.Image.Image image mode=RGB size=32x32 at 0x7FA8FB9F9EE0>, 3),\n",
       " (<PIL.Image.Image image mode=RGB size=32x32 at 0x7FA8FB9F9F10>, 3),\n",
       " (<PIL.Image.Image image mode=RGB size=32x32 at 0x7FA8FB9F9F40>, 3),\n",
       " (<PIL.Image.Image image mode=RGB size=32x32 at 0x7FA8FB9F9F70>, 3),\n",
       " (<PIL.Image.Image image mode=RGB size=32x32 at 0x7FA8FB9E0130>, 3),\n",
       " (<PIL.Image.Image image mode=RGB size=32x32 at 0x7FA8FB9E0520>, 3),\n",
       " (<PIL.Image.Image image mode=RGB size=32x32 at 0x7FA8FB9E0760>, 3),\n",
       " (<PIL.Image.Image image mode=RGB size=32x32 at 0x7FA8FB9E07F0>, 3),\n",
       " (<PIL.Image.Image image mode=RGB size=32x32 at 0x7FA8FB9E0370>, 3),\n",
       " (<PIL.Image.Image image mode=RGB size=32x32 at 0x7FA8FB9E0910>, 3),\n",
       " (<PIL.Image.Image image mode=RGB size=32x32 at 0x7FA8FB9E0C70>, 3),\n",
       " (<PIL.Image.Image image mode=RGB size=32x32 at 0x7FA8FB9E0D00>, 3),\n",
       " (<PIL.Image.Image image mode=RGB size=32x32 at 0x7FA8FB9E06D0>, 3),\n",
       " (<PIL.Image.Image image mode=RGB size=32x32 at 0x7FA8FB97ACD0>, 3),\n",
       " (<PIL.Image.Image image mode=RGB size=32x32 at 0x7FA8FB97A130>, 3),\n",
       " (<PIL.Image.Image image mode=RGB size=32x32 at 0x7FA91072B220>, 3),\n",
       " (<PIL.Image.Image image mode=RGB size=32x32 at 0x7FA91072B9A0>, 3),\n",
       " (<PIL.Image.Image image mode=RGB size=32x32 at 0x7FA91072B340>, 3),\n",
       " (<PIL.Image.Image image mode=RGB size=32x32 at 0x7FA91072B1C0>, 3),\n",
       " (<PIL.Image.Image image mode=RGB size=32x32 at 0x7FA914EE2190>, 3),\n",
       " (<PIL.Image.Image image mode=RGB size=32x32 at 0x7FA914FE6A00>, 3),\n",
       " (<PIL.Image.Image image mode=RGB size=32x32 at 0x7FA914FE6DF0>, 3),\n",
       " (<PIL.Image.Image image mode=RGB size=32x32 at 0x7FA914FE6D60>, 3),\n",
       " (<PIL.Image.Image image mode=RGB size=32x32 at 0x7FA914FE6AF0>, 3),\n",
       " (<PIL.Image.Image image mode=RGB size=32x32 at 0x7FA914FE6B80>, 3),\n",
       " (<PIL.Image.Image image mode=RGB size=32x32 at 0x7FA914FE6E50>, 3),\n",
       " (<PIL.Image.Image image mode=RGB size=32x32 at 0x7FA914FE6670>, 3),\n",
       " (<PIL.Image.Image image mode=RGB size=32x32 at 0x7FA914FE6700>, 3),\n",
       " (<PIL.Image.Image image mode=RGB size=32x32 at 0x7FA914FE6FD0>, 3),\n",
       " (<PIL.Image.Image image mode=RGB size=32x32 at 0x7FA914FE6820>, 3),\n",
       " (<PIL.Image.Image image mode=RGB size=32x32 at 0x7FA914FE6F70>, 3),\n",
       " (<PIL.Image.Image image mode=RGB size=32x32 at 0x7FA914FE6E20>, 3),\n",
       " (<PIL.Image.Image image mode=RGB size=32x32 at 0x7FA914FE6550>, 3),\n",
       " (<PIL.Image.Image image mode=RGB size=32x32 at 0x7FA914FE6AC0>, 3),\n",
       " (<PIL.Image.Image image mode=RGB size=32x32 at 0x7FA914FE6EE0>, 3),\n",
       " (<PIL.Image.Image image mode=RGB size=32x32 at 0x7FA914FE6430>, 3),\n",
       " (<PIL.Image.Image image mode=RGB size=32x32 at 0x7FA914F589D0>, 3),\n",
       " (<PIL.Image.Image image mode=RGB size=32x32 at 0x7FA914F58AF0>, 3),\n",
       " (<PIL.Image.Image image mode=RGB size=32x32 at 0x7FA8FB9F9FA0>, 3),\n",
       " (<PIL.Image.Image image mode=RGB size=32x32 at 0x7FA8FB9F9FD0>, 3),\n",
       " (<PIL.Image.Image image mode=RGB size=32x32 at 0x7FA918D64040>, 3),\n",
       " (<PIL.Image.Image image mode=RGB size=32x32 at 0x7FA918D64070>, 3),\n",
       " (<PIL.Image.Image image mode=RGB size=32x32 at 0x7FA918D640A0>, 3),\n",
       " (<PIL.Image.Image image mode=RGB size=32x32 at 0x7FA918D640D0>, 3),\n",
       " (<PIL.Image.Image image mode=RGB size=32x32 at 0x7FA918D64100>, 3),\n",
       " (<PIL.Image.Image image mode=RGB size=32x32 at 0x7FA918D64130>, 3),\n",
       " (<PIL.Image.Image image mode=RGB size=32x32 at 0x7FA918D64160>, 3),\n",
       " (<PIL.Image.Image image mode=RGB size=32x32 at 0x7FA918D64190>, 3),\n",
       " (<PIL.Image.Image image mode=RGB size=32x32 at 0x7FA918D641C0>, 3),\n",
       " (<PIL.Image.Image image mode=RGB size=32x32 at 0x7FA918D641F0>, 3),\n",
       " (<PIL.Image.Image image mode=RGB size=32x32 at 0x7FA918D64220>, 3),\n",
       " (<PIL.Image.Image image mode=RGB size=32x32 at 0x7FA918D64250>, 3),\n",
       " (<PIL.Image.Image image mode=RGB size=32x32 at 0x7FA918D64280>, 3),\n",
       " (<PIL.Image.Image image mode=RGB size=32x32 at 0x7FA918D642B0>, 3),\n",
       " (<PIL.Image.Image image mode=RGB size=32x32 at 0x7FA918D642E0>, 3),\n",
       " (<PIL.Image.Image image mode=RGB size=32x32 at 0x7FA918D64310>, 3),\n",
       " (<PIL.Image.Image image mode=RGB size=32x32 at 0x7FA918D64340>, 3),\n",
       " (<PIL.Image.Image image mode=RGB size=32x32 at 0x7FA918D64370>, 3),\n",
       " (<PIL.Image.Image image mode=RGB size=32x32 at 0x7FA918D643A0>, 3),\n",
       " (<PIL.Image.Image image mode=RGB size=32x32 at 0x7FA918D643D0>, 3),\n",
       " (<PIL.Image.Image image mode=RGB size=32x32 at 0x7FA918D64400>, 3),\n",
       " (<PIL.Image.Image image mode=RGB size=32x32 at 0x7FA918D64430>, 3),\n",
       " (<PIL.Image.Image image mode=RGB size=32x32 at 0x7FA918D64460>, 3),\n",
       " (<PIL.Image.Image image mode=RGB size=32x32 at 0x7FA918D64490>, 3),\n",
       " (<PIL.Image.Image image mode=RGB size=32x32 at 0x7FA918D644C0>, 3),\n",
       " (<PIL.Image.Image image mode=RGB size=32x32 at 0x7FA918D644F0>, 3),\n",
       " (<PIL.Image.Image image mode=RGB size=32x32 at 0x7FA918D64520>, 3),\n",
       " (<PIL.Image.Image image mode=RGB size=32x32 at 0x7FA918D64550>, 3),\n",
       " (<PIL.Image.Image image mode=RGB size=32x32 at 0x7FA918D64580>, 3),\n",
       " (<PIL.Image.Image image mode=RGB size=32x32 at 0x7FA918D645B0>, 3),\n",
       " (<PIL.Image.Image image mode=RGB size=32x32 at 0x7FA918D645E0>, 3),\n",
       " (<PIL.Image.Image image mode=RGB size=32x32 at 0x7FA918D64610>, 3),\n",
       " (<PIL.Image.Image image mode=RGB size=32x32 at 0x7FA918D64640>, 3),\n",
       " (<PIL.Image.Image image mode=RGB size=32x32 at 0x7FA918D64670>, 3),\n",
       " (<PIL.Image.Image image mode=RGB size=32x32 at 0x7FA918D646A0>, 3),\n",
       " (<PIL.Image.Image image mode=RGB size=32x32 at 0x7FA918D646D0>, 3),\n",
       " (<PIL.Image.Image image mode=RGB size=32x32 at 0x7FA918D64700>, 3),\n",
       " (<PIL.Image.Image image mode=RGB size=32x32 at 0x7FA918D64730>, 3),\n",
       " (<PIL.Image.Image image mode=RGB size=32x32 at 0x7FA918D64760>, 3),\n",
       " (<PIL.Image.Image image mode=RGB size=32x32 at 0x7FA918D64790>, 3),\n",
       " (<PIL.Image.Image image mode=RGB size=32x32 at 0x7FA918D647C0>, 3),\n",
       " (<PIL.Image.Image image mode=RGB size=32x32 at 0x7FA918D647F0>, 3),\n",
       " (<PIL.Image.Image image mode=RGB size=32x32 at 0x7FA918D64820>, 3),\n",
       " (<PIL.Image.Image image mode=RGB size=32x32 at 0x7FA918D64850>, 3),\n",
       " (<PIL.Image.Image image mode=RGB size=32x32 at 0x7FA918D64880>, 3),\n",
       " (<PIL.Image.Image image mode=RGB size=32x32 at 0x7FA918D648B0>, 3),\n",
       " (<PIL.Image.Image image mode=RGB size=32x32 at 0x7FA918D648E0>, 3),\n",
       " (<PIL.Image.Image image mode=RGB size=32x32 at 0x7FA918D64910>, 3),\n",
       " (<PIL.Image.Image image mode=RGB size=32x32 at 0x7FA918D64940>, 3),\n",
       " (<PIL.Image.Image image mode=RGB size=32x32 at 0x7FA918D64970>, 3),\n",
       " (<PIL.Image.Image image mode=RGB size=32x32 at 0x7FA918D649A0>, 3),\n",
       " (<PIL.Image.Image image mode=RGB size=32x32 at 0x7FA918D649D0>, 3),\n",
       " (<PIL.Image.Image image mode=RGB size=32x32 at 0x7FA918D64A00>, 3),\n",
       " (<PIL.Image.Image image mode=RGB size=32x32 at 0x7FA918D64A30>, 3),\n",
       " (<PIL.Image.Image image mode=RGB size=32x32 at 0x7FA918D64A60>, 3),\n",
       " (<PIL.Image.Image image mode=RGB size=32x32 at 0x7FA918D64A90>, 3),\n",
       " (<PIL.Image.Image image mode=RGB size=32x32 at 0x7FA918D64AC0>, 3),\n",
       " (<PIL.Image.Image image mode=RGB size=32x32 at 0x7FA918D64AF0>, 3),\n",
       " (<PIL.Image.Image image mode=RGB size=32x32 at 0x7FA918D64B20>, 3),\n",
       " (<PIL.Image.Image image mode=RGB size=32x32 at 0x7FA918D64B50>, 3),\n",
       " (<PIL.Image.Image image mode=RGB size=32x32 at 0x7FA918D64B80>, 3),\n",
       " (<PIL.Image.Image image mode=RGB size=32x32 at 0x7FA918D64BB0>, 3),\n",
       " (<PIL.Image.Image image mode=RGB size=32x32 at 0x7FA918D64BE0>, 3),\n",
       " (<PIL.Image.Image image mode=RGB size=32x32 at 0x7FA918D64C10>, 3),\n",
       " (<PIL.Image.Image image mode=RGB size=32x32 at 0x7FA918D64C40>, 3),\n",
       " (<PIL.Image.Image image mode=RGB size=32x32 at 0x7FA918D64C70>, 3),\n",
       " (<PIL.Image.Image image mode=RGB size=32x32 at 0x7FA918D64CA0>, 3),\n",
       " (<PIL.Image.Image image mode=RGB size=32x32 at 0x7FA918D64CD0>, 3),\n",
       " (<PIL.Image.Image image mode=RGB size=32x32 at 0x7FA918D64D00>, 3),\n",
       " (<PIL.Image.Image image mode=RGB size=32x32 at 0x7FA918D64D30>, 3),\n",
       " (<PIL.Image.Image image mode=RGB size=32x32 at 0x7FA918D64D60>, 3),\n",
       " (<PIL.Image.Image image mode=RGB size=32x32 at 0x7FA918D64D90>, 3),\n",
       " (<PIL.Image.Image image mode=RGB size=32x32 at 0x7FA918D64DC0>, 3),\n",
       " (<PIL.Image.Image image mode=RGB size=32x32 at 0x7FA918D64DF0>, 3),\n",
       " (<PIL.Image.Image image mode=RGB size=32x32 at 0x7FA918D64E20>, 3),\n",
       " (<PIL.Image.Image image mode=RGB size=32x32 at 0x7FA918D64E50>, 3),\n",
       " (<PIL.Image.Image image mode=RGB size=32x32 at 0x7FA918D64E80>, 3),\n",
       " (<PIL.Image.Image image mode=RGB size=32x32 at 0x7FA918D64EB0>, 3),\n",
       " (<PIL.Image.Image image mode=RGB size=32x32 at 0x7FA918D64EE0>, 3),\n",
       " (<PIL.Image.Image image mode=RGB size=32x32 at 0x7FA918D64F10>, 3),\n",
       " (<PIL.Image.Image image mode=RGB size=32x32 at 0x7FA918D64F40>, 3),\n",
       " (<PIL.Image.Image image mode=RGB size=32x32 at 0x7FA918D64F70>, 3),\n",
       " (<PIL.Image.Image image mode=RGB size=32x32 at 0x7FA918D64FA0>, 3),\n",
       " (<PIL.Image.Image image mode=RGB size=32x32 at 0x7FA918D64FD0>, 3),\n",
       " (<PIL.Image.Image image mode=RGB size=32x32 at 0x7FA918D78040>, 3),\n",
       " (<PIL.Image.Image image mode=RGB size=32x32 at 0x7FA918D78070>, 3),\n",
       " (<PIL.Image.Image image mode=RGB size=32x32 at 0x7FA918D780A0>, 3),\n",
       " (<PIL.Image.Image image mode=RGB size=32x32 at 0x7FA918D780D0>, 3),\n",
       " (<PIL.Image.Image image mode=RGB size=32x32 at 0x7FA918D78100>, 3),\n",
       " (<PIL.Image.Image image mode=RGB size=32x32 at 0x7FA918D78130>, 3),\n",
       " (<PIL.Image.Image image mode=RGB size=32x32 at 0x7FA918D78160>, 3),\n",
       " (<PIL.Image.Image image mode=RGB size=32x32 at 0x7FA918D78190>, 3),\n",
       " (<PIL.Image.Image image mode=RGB size=32x32 at 0x7FA918D781C0>, 3),\n",
       " (<PIL.Image.Image image mode=RGB size=32x32 at 0x7FA918D781F0>, 3),\n",
       " (<PIL.Image.Image image mode=RGB size=32x32 at 0x7FA918D78220>, 3),\n",
       " (<PIL.Image.Image image mode=RGB size=32x32 at 0x7FA918D78250>, 3),\n",
       " (<PIL.Image.Image image mode=RGB size=32x32 at 0x7FA918D78280>, 3),\n",
       " (<PIL.Image.Image image mode=RGB size=32x32 at 0x7FA918D782B0>, 3),\n",
       " (<PIL.Image.Image image mode=RGB size=32x32 at 0x7FA918D782E0>, 3),\n",
       " (<PIL.Image.Image image mode=RGB size=32x32 at 0x7FA918D78310>, 3),\n",
       " (<PIL.Image.Image image mode=RGB size=32x32 at 0x7FA918D78340>, 3),\n",
       " (<PIL.Image.Image image mode=RGB size=32x32 at 0x7FA918D78370>, 3),\n",
       " (<PIL.Image.Image image mode=RGB size=32x32 at 0x7FA918D783A0>, 3),\n",
       " (<PIL.Image.Image image mode=RGB size=32x32 at 0x7FA918D783D0>, 3),\n",
       " (<PIL.Image.Image image mode=RGB size=32x32 at 0x7FA918D78400>, 3),\n",
       " (<PIL.Image.Image image mode=RGB size=32x32 at 0x7FA918D78430>, 3),\n",
       " (<PIL.Image.Image image mode=RGB size=32x32 at 0x7FA918D78460>, 3),\n",
       " (<PIL.Image.Image image mode=RGB size=32x32 at 0x7FA918D78490>, 3),\n",
       " (<PIL.Image.Image image mode=RGB size=32x32 at 0x7FA918D784C0>, 3),\n",
       " (<PIL.Image.Image image mode=RGB size=32x32 at 0x7FA918D784F0>, 3),\n",
       " (<PIL.Image.Image image mode=RGB size=32x32 at 0x7FA918D78520>, 3),\n",
       " (<PIL.Image.Image image mode=RGB size=32x32 at 0x7FA918D78550>, 3),\n",
       " (<PIL.Image.Image image mode=RGB size=32x32 at 0x7FA918D78580>, 3),\n",
       " (<PIL.Image.Image image mode=RGB size=32x32 at 0x7FA918D785B0>, 3),\n",
       " (<PIL.Image.Image image mode=RGB size=32x32 at 0x7FA918D785E0>, 3),\n",
       " (<PIL.Image.Image image mode=RGB size=32x32 at 0x7FA918D78610>, 3),\n",
       " (<PIL.Image.Image image mode=RGB size=32x32 at 0x7FA918D78640>, 3),\n",
       " (<PIL.Image.Image image mode=RGB size=32x32 at 0x7FA918D78670>, 3),\n",
       " (<PIL.Image.Image image mode=RGB size=32x32 at 0x7FA918D786A0>, 3),\n",
       " (<PIL.Image.Image image mode=RGB size=32x32 at 0x7FA918D786D0>, 3),\n",
       " (<PIL.Image.Image image mode=RGB size=32x32 at 0x7FA918D78700>, 3),\n",
       " (<PIL.Image.Image image mode=RGB size=32x32 at 0x7FA918D78730>, 3),\n",
       " (<PIL.Image.Image image mode=RGB size=32x32 at 0x7FA918D78760>, 3),\n",
       " (<PIL.Image.Image image mode=RGB size=32x32 at 0x7FA918D78790>, 3),\n",
       " (<PIL.Image.Image image mode=RGB size=32x32 at 0x7FA918D787C0>, 3),\n",
       " (<PIL.Image.Image image mode=RGB size=32x32 at 0x7FA918D787F0>, 3),\n",
       " (<PIL.Image.Image image mode=RGB size=32x32 at 0x7FA918D78820>, 3),\n",
       " (<PIL.Image.Image image mode=RGB size=32x32 at 0x7FA918D78850>, 3),\n",
       " (<PIL.Image.Image image mode=RGB size=32x32 at 0x7FA918D78880>, 3),\n",
       " (<PIL.Image.Image image mode=RGB size=32x32 at 0x7FA918D788B0>, 3),\n",
       " (<PIL.Image.Image image mode=RGB size=32x32 at 0x7FA918D788E0>, 3),\n",
       " (<PIL.Image.Image image mode=RGB size=32x32 at 0x7FA918D78910>, 3),\n",
       " (<PIL.Image.Image image mode=RGB size=32x32 at 0x7FA918D78940>, 3),\n",
       " (<PIL.Image.Image image mode=RGB size=32x32 at 0x7FA918D78970>, 3),\n",
       " (<PIL.Image.Image image mode=RGB size=32x32 at 0x7FA918D789A0>, 3),\n",
       " (<PIL.Image.Image image mode=RGB size=32x32 at 0x7FA918D789D0>, 3),\n",
       " (<PIL.Image.Image image mode=RGB size=32x32 at 0x7FA918D78A00>, 3),\n",
       " (<PIL.Image.Image image mode=RGB size=32x32 at 0x7FA918D78A30>, 3),\n",
       " (<PIL.Image.Image image mode=RGB size=32x32 at 0x7FA918D78A60>, 3),\n",
       " (<PIL.Image.Image image mode=RGB size=32x32 at 0x7FA918D78A90>, 3),\n",
       " (<PIL.Image.Image image mode=RGB size=32x32 at 0x7FA918D78AC0>, 3),\n",
       " (<PIL.Image.Image image mode=RGB size=32x32 at 0x7FA918D78AF0>, 3),\n",
       " (<PIL.Image.Image image mode=RGB size=32x32 at 0x7FA918D78B20>, 3),\n",
       " (<PIL.Image.Image image mode=RGB size=32x32 at 0x7FA918D78B50>, 3),\n",
       " (<PIL.Image.Image image mode=RGB size=32x32 at 0x7FA918D78B80>, 3),\n",
       " (<PIL.Image.Image image mode=RGB size=32x32 at 0x7FA918D78BB0>, 3),\n",
       " (<PIL.Image.Image image mode=RGB size=32x32 at 0x7FA918D78BE0>, 3),\n",
       " (<PIL.Image.Image image mode=RGB size=32x32 at 0x7FA918D78C10>, 3),\n",
       " (<PIL.Image.Image image mode=RGB size=32x32 at 0x7FA918D78C40>, 3),\n",
       " (<PIL.Image.Image image mode=RGB size=32x32 at 0x7FA918D78C70>, 3),\n",
       " (<PIL.Image.Image image mode=RGB size=32x32 at 0x7FA918D78CA0>, 3),\n",
       " (<PIL.Image.Image image mode=RGB size=32x32 at 0x7FA918D78CD0>, 3),\n",
       " (<PIL.Image.Image image mode=RGB size=32x32 at 0x7FA918D78D00>, 3),\n",
       " (<PIL.Image.Image image mode=RGB size=32x32 at 0x7FA918D78D30>, 3),\n",
       " (<PIL.Image.Image image mode=RGB size=32x32 at 0x7FA918D78D60>, 3),\n",
       " (<PIL.Image.Image image mode=RGB size=32x32 at 0x7FA918D78D90>, 3),\n",
       " (<PIL.Image.Image image mode=RGB size=32x32 at 0x7FA918D78DC0>, 3),\n",
       " (<PIL.Image.Image image mode=RGB size=32x32 at 0x7FA918D78DF0>, 3),\n",
       " (<PIL.Image.Image image mode=RGB size=32x32 at 0x7FA918D78E20>, 3),\n",
       " (<PIL.Image.Image image mode=RGB size=32x32 at 0x7FA918D78E50>, 3),\n",
       " (<PIL.Image.Image image mode=RGB size=32x32 at 0x7FA918D78E80>, 3),\n",
       " (<PIL.Image.Image image mode=RGB size=32x32 at 0x7FA918D78EB0>, 3),\n",
       " (<PIL.Image.Image image mode=RGB size=32x32 at 0x7FA918D78EE0>, 3),\n",
       " (<PIL.Image.Image image mode=RGB size=32x32 at 0x7FA918D78F10>, 3),\n",
       " (<PIL.Image.Image image mode=RGB size=32x32 at 0x7FA918D78F40>, 3),\n",
       " (<PIL.Image.Image image mode=RGB size=32x32 at 0x7FA918D78F70>, 3),\n",
       " (<PIL.Image.Image image mode=RGB size=32x32 at 0x7FA918D78FA0>, 3),\n",
       " (<PIL.Image.Image image mode=RGB size=32x32 at 0x7FA918D78FD0>, 3),\n",
       " (<PIL.Image.Image image mode=RGB size=32x32 at 0x7FA918CFD040>, 3),\n",
       " (<PIL.Image.Image image mode=RGB size=32x32 at 0x7FA918CFD070>, 3),\n",
       " (<PIL.Image.Image image mode=RGB size=32x32 at 0x7FA918CFD0A0>, 3),\n",
       " (<PIL.Image.Image image mode=RGB size=32x32 at 0x7FA918CFD0D0>, 3),\n",
       " (<PIL.Image.Image image mode=RGB size=32x32 at 0x7FA918CFD100>, 3),\n",
       " (<PIL.Image.Image image mode=RGB size=32x32 at 0x7FA918CFD130>, 3),\n",
       " (<PIL.Image.Image image mode=RGB size=32x32 at 0x7FA918CFD160>, 3),\n",
       " (<PIL.Image.Image image mode=RGB size=32x32 at 0x7FA918CFD190>, 3),\n",
       " (<PIL.Image.Image image mode=RGB size=32x32 at 0x7FA918CFD1C0>, 3),\n",
       " (<PIL.Image.Image image mode=RGB size=32x32 at 0x7FA918CFD1F0>, 3),\n",
       " (<PIL.Image.Image image mode=RGB size=32x32 at 0x7FA918CFD220>, 3),\n",
       " (<PIL.Image.Image image mode=RGB size=32x32 at 0x7FA918CFD250>, 3),\n",
       " (<PIL.Image.Image image mode=RGB size=32x32 at 0x7FA918CFD280>, 3),\n",
       " (<PIL.Image.Image image mode=RGB size=32x32 at 0x7FA918CFD2B0>, 3),\n",
       " (<PIL.Image.Image image mode=RGB size=32x32 at 0x7FA918CFD2E0>, 3),\n",
       " (<PIL.Image.Image image mode=RGB size=32x32 at 0x7FA918CFD310>, 3),\n",
       " (<PIL.Image.Image image mode=RGB size=32x32 at 0x7FA918CFD340>, 3),\n",
       " (<PIL.Image.Image image mode=RGB size=32x32 at 0x7FA918CFD370>, 3),\n",
       " (<PIL.Image.Image image mode=RGB size=32x32 at 0x7FA918CFD3A0>, 3),\n",
       " (<PIL.Image.Image image mode=RGB size=32x32 at 0x7FA918CFD3D0>, 3),\n",
       " (<PIL.Image.Image image mode=RGB size=32x32 at 0x7FA918CFD400>, 3),\n",
       " (<PIL.Image.Image image mode=RGB size=32x32 at 0x7FA918CFD430>, 3),\n",
       " (<PIL.Image.Image image mode=RGB size=32x32 at 0x7FA918CFD460>, 3)]"
      ]
     },
     "execution_count": 78,
     "metadata": {},
     "output_type": "execute_result"
    }
   ],
   "source": [
    "poisons"
   ]
  },
  {
   "cell_type": "code",
   "execution_count": 63,
   "id": "ecf43580",
   "metadata": {},
   "outputs": [],
   "source": [
    "img = transforms.ToTensor()(trainset[0][0])\n"
   ]
  },
  {
   "cell_type": "code",
   "execution_count": 52,
   "id": "afc91d69",
   "metadata": {},
   "outputs": [],
   "source": [
    "t = transforms.Compose([transforms.RandomHorizontalFlip()])#, transforms.RandomCrop(32,4)])"
   ]
  },
  {
   "cell_type": "code",
   "execution_count": 65,
   "id": "3737caed",
   "metadata": {},
   "outputs": [
    {
     "data": {
      "text/plain": [
       "tensor([[[0.2314, 0.1686, 0.1961,  ..., 0.6196, 0.5961, 0.5804],\n",
       "         [0.0627, 0.0000, 0.0706,  ..., 0.4824, 0.4667, 0.4784],\n",
       "         [0.0980, 0.0627, 0.1922,  ..., 0.4627, 0.4706, 0.4275],\n",
       "         ...,\n",
       "         [0.8157, 0.7882, 0.7765,  ..., 0.6275, 0.2196, 0.2078],\n",
       "         [0.7059, 0.6784, 0.7294,  ..., 0.7216, 0.3804, 0.3255],\n",
       "         [0.6941, 0.6588, 0.7020,  ..., 0.8471, 0.5922, 0.4824]],\n",
       "\n",
       "        [[0.2431, 0.1804, 0.1882,  ..., 0.5176, 0.4902, 0.4863],\n",
       "         [0.0784, 0.0000, 0.0314,  ..., 0.3451, 0.3255, 0.3412],\n",
       "         [0.0941, 0.0275, 0.1059,  ..., 0.3294, 0.3294, 0.2863],\n",
       "         ...,\n",
       "         [0.6667, 0.6000, 0.6314,  ..., 0.5216, 0.1216, 0.1333],\n",
       "         [0.5451, 0.4824, 0.5647,  ..., 0.5804, 0.2431, 0.2078],\n",
       "         [0.5647, 0.5059, 0.5569,  ..., 0.7216, 0.4627, 0.3608]],\n",
       "\n",
       "        [[0.2471, 0.1765, 0.1686,  ..., 0.4235, 0.4000, 0.4039],\n",
       "         [0.0784, 0.0000, 0.0000,  ..., 0.2157, 0.1961, 0.2235],\n",
       "         [0.0824, 0.0000, 0.0314,  ..., 0.1961, 0.1961, 0.1647],\n",
       "         ...,\n",
       "         [0.3765, 0.1333, 0.1020,  ..., 0.2745, 0.0275, 0.0784],\n",
       "         [0.3765, 0.1647, 0.1176,  ..., 0.3686, 0.1333, 0.1333],\n",
       "         [0.4549, 0.3686, 0.3412,  ..., 0.5490, 0.3294, 0.2824]]])"
      ]
     },
     "execution_count": 65,
     "metadata": {},
     "output_type": "execute_result"
    }
   ],
   "source": [
    "t(img)"
   ]
  },
  {
   "cell_type": "code",
   "execution_count": 191,
   "id": "1e18be30",
   "metadata": {},
   "outputs": [],
   "source": [
    "from torch import nn\n",
    "def generate_trigger(trainset, label, surrogate, epsilon, N = 100, num_iters = 40, lr = 0.01):\n",
    "    \"\"\"\n",
    "    Generate the NARCISSUS trigger using randomly selected images from the trainset of class label.\n",
    "\n",
    "    inputs:\n",
    "        trainset:       Dataset containing training images\n",
    "        label:          Target label to sample images of from trainset\n",
    "    return:\n",
    "        PIL image of NARCISSUS-crafted trigger\n",
    "    \"\"\"\n",
    "    epsilon = torch.tensor(epsilon)\n",
    "    images = torch.stack([x for x,y in trainset if y == label])\n",
    "    idxs = torch.randperm(len(images))[:N]\n",
    "\n",
    "    samples = images[idxs]\n",
    "    delta = torch.zeros_like(samples[0]).uniform_(-epsilon, epsilon)\n",
    "    label = torch.tensor([label for _ in range(N)])\n",
    "    for step in range(num_iters):\n",
    "        delta.requires_grad_()\n",
    "        with torch.enable_grad():\n",
    "            if step % 1 == 0:\n",
    "                print(step)\n",
    "            loss = nn.functional.cross_entropy(surrogate(samples + delta), label, reduction = 'sum')\n",
    "            loss /= N\n",
    "        grad = torch.autograd.grad(loss, [delta])[0]\n",
    "        delta = delta.detach() - lr * torch.sign(grad.detach())\n",
    "        delta = torch.min(torch.max(-epsilon, delta), epsilon)\n",
    "        delta = torch.clamp(delta, 0.0, 1.0)\n",
    "    \n",
    "    convert = transforms.ToPILImage()\n",
    "    delta = convert(delta)\n",
    "    \n",
    "    return delta"
   ]
  },
  {
   "cell_type": "code",
   "execution_count": 140,
   "id": "a7a71114",
   "metadata": {},
   "outputs": [],
   "source": [
    "surr = learning_module.load_model_from_checkpoint(\"resnet18\", \"pretrained_models/ResNet18_CIFAR10_adv.pth\")"
   ]
  },
  {
   "cell_type": "code",
   "execution_count": 141,
   "id": "d90a6c32",
   "metadata": {},
   "outputs": [
    {
     "name": "stdout",
     "output_type": "stream",
     "text": [
      "Files already downloaded and verified\n"
     ]
    }
   ],
   "source": [
    "trainset = torchvision.datasets.CIFAR10(\n",
    "            root=\"./data\", train=True, download=True, transform=transforms.ToTensor()\n",
    "        )"
   ]
  },
  {
   "cell_type": "code",
   "execution_count": 196,
   "id": "25fc5281",
   "metadata": {},
   "outputs": [
    {
     "name": "stdout",
     "output_type": "stream",
     "text": [
      "tensor([[[-0.0943,  0.0145, -0.0788,  ..., -0.0693, -0.0282, -0.0947],\n",
      "         [ 0.0643,  0.0498,  0.0916,  ...,  0.0066, -0.1145,  0.0524],\n",
      "         [ 0.0296,  0.0015, -0.0219,  ...,  0.0066, -0.0908,  0.0399],\n",
      "         ...,\n",
      "         [ 0.1177,  0.0973,  0.0845,  ...,  0.0346,  0.0530,  0.0413],\n",
      "         [-0.0335,  0.0541,  0.0642,  ...,  0.1118,  0.0472,  0.0848],\n",
      "         [-0.0978, -0.0057, -0.0155,  ..., -0.0723,  0.1126,  0.1025]],\n",
      "\n",
      "        [[-0.1156,  0.1093,  0.1206,  ..., -0.1016,  0.0058, -0.0671],\n",
      "         [ 0.0123,  0.0554, -0.1049,  ..., -0.0404, -0.1186, -0.0905],\n",
      "         [-0.1199, -0.0442,  0.1113,  ..., -0.0821, -0.0768, -0.0402],\n",
      "         ...,\n",
      "         [-0.0961,  0.0752, -0.0221,  ..., -0.0091,  0.1016,  0.0496],\n",
      "         [-0.1143,  0.0823, -0.1204,  ..., -0.0450,  0.0456, -0.0351],\n",
      "         [ 0.0627, -0.0315, -0.0643,  ..., -0.0195,  0.1108,  0.0215]],\n",
      "\n",
      "        [[ 0.1197,  0.0379,  0.0455,  ...,  0.0504, -0.0020, -0.0327],\n",
      "         [ 0.0462, -0.0797, -0.0785,  ...,  0.1059, -0.1231, -0.0302],\n",
      "         [-0.1201,  0.0971,  0.0742,  ...,  0.0895,  0.1222,  0.0384],\n",
      "         ...,\n",
      "         [ 0.0729, -0.1207, -0.0312,  ..., -0.0423, -0.0276, -0.1109],\n",
      "         [ 0.0848, -0.0991, -0.0187,  ...,  0.0282, -0.0465, -0.0939],\n",
      "         [ 0.0942,  0.0978, -0.0531,  ..., -0.1185, -0.0939,  0.0213]]])\n",
      "0\n",
      "1\n",
      "2\n",
      "3\n",
      "4\n",
      "5\n",
      "6\n",
      "7\n",
      "8\n",
      "9\n"
     ]
    }
   ],
   "source": [
    "res = generate_trigger(trainset, 4, surr, 32/255, num_iters = 10)"
   ]
  },
  {
   "cell_type": "code",
   "execution_count": 166,
   "id": "4b2876d1",
   "metadata": {},
   "outputs": [
    {
     "data": {
      "text/plain": [
       "tensor(0.1255)"
      ]
     },
     "execution_count": 166,
     "metadata": {},
     "output_type": "execute_result"
    }
   ],
   "source": [
    "torch.max(transforms.ToTensor()(res))"
   ]
  },
  {
   "cell_type": "code",
   "execution_count": 167,
   "id": "67a2bbfd",
   "metadata": {},
   "outputs": [],
   "source": [
    "surr()"
   ]
  },
  {
   "cell_type": "code",
   "execution_count": 181,
   "id": "02300301",
   "metadata": {},
   "outputs": [
    {
     "ename": "SyntaxError",
     "evalue": "invalid syntax (2780008713.py, line 1)",
     "output_type": "error",
     "traceback": [
      "\u001b[0;36m  File \u001b[0;32m\"/var/folders/w3/lngg3q_j3bjbdnsfznd4kvb80000gn/T/ipykernel_2038/2780008713.py\"\u001b[0;36m, line \u001b[0;32m1\u001b[0m\n\u001b[0;31m    images = torch.stack([x,y for x,y in trainset if y == 4])\u001b[0m\n\u001b[0m                              ^\u001b[0m\n\u001b[0;31mSyntaxError\u001b[0m\u001b[0;31m:\u001b[0m invalid syntax\n"
     ]
    }
   ],
   "source": [
    "images = torch.stack([x for x,y in trainset if y == 4])\n",
    "idxs = torch.randperm(len(images))[:10]"
   ]
  },
  {
   "cell_type": "code",
   "execution_count": 170,
   "id": "458f1bf0",
   "metadata": {},
   "outputs": [],
   "source": [
    "samples = images[idxs]"
   ]
  },
  {
   "cell_type": "code",
   "execution_count": 174,
   "id": "26bec44a",
   "metadata": {},
   "outputs": [
    {
     "data": {
      "text/plain": [
       "tensor([4, 1, 9, 5, 0, 1, 2, 9, 3, 6])"
      ]
     },
     "execution_count": 174,
     "metadata": {},
     "output_type": "execute_result"
    }
   ],
   "source": [
    "torch.argmax(surr(samples), axis=1)"
   ]
  },
  {
   "cell_type": "code",
   "execution_count": 178,
   "id": "72c59590",
   "metadata": {},
   "outputs": [
    {
     "data": {
      "text/plain": [
       "tensor([4, 1, 9, 5, 0, 1, 2, 9, 3, 6])"
      ]
     },
     "execution_count": 178,
     "metadata": {},
     "output_type": "execute_result"
    }
   ],
   "source": [
    "torch.argmax(torch.nn.functional.softmax(surr(samples), dim = 1), axis = 1)"
   ]
  },
  {
   "cell_type": "code",
   "execution_count": 180,
   "id": "f9a9dae1",
   "metadata": {},
   "outputs": [
    {
     "data": {
      "text/plain": [
       "tensor([4, 1, 9, 5, 4, 1, 2, 9, 3, 6])"
      ]
     },
     "execution_count": 180,
     "metadata": {},
     "output_type": "execute_result"
    }
   ],
   "source": [
    "torch.argmax(surr(samples+transforms.ToTensor()(res)), axis = 1)"
   ]
  },
  {
   "cell_type": "code",
   "execution_count": 189,
   "id": "6ab76b7b",
   "metadata": {},
   "outputs": [
    {
     "data": {
      "image/png": "[encoded data removed]",
      "text/plain": [
       "<PIL.Image.Image image mode=RGB size=32x32 at 0x7FA8E8031A90>"
      ]
     },
     "execution_count": 189,
     "metadata": {},
     "output_type": "execute_result"
    }
   ],
   "source": [
    "transforms.ToPILImage()(samples[5])"
   ]
  },
  {
   "cell_type": "code",
   "execution_count": null,
   "id": "267ee3bb",
   "metadata": {},
   "outputs": [],
   "source": []
  }
 ],
 "metadata": {
  "kernelspec": {
   "display_name": "Python 3 (ipykernel)",
   "language": "python",
   "name": "python3"
  },
  "language_info": {
   "codemirror_mode": {
    "name": "ipython",
    "version": 3
   },
   "file_extension": ".py",
   "mimetype": "text/x-python",
   "name": "python",
   "nbconvert_exporter": "python",
   "pygments_lexer": "ipython3",
   "version": "3.9.7"
  }
 },
 "nbformat": 4,
 "nbformat_minor": 5
}
