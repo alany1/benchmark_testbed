{
 "cells": [
  {
   "cell_type": "code",
   "execution_count": 1,
   "id": "7656d3f7",
   "metadata": {},
   "outputs": [],
   "source": [
    "import pickle\n",
    "import PIL\n",
    "from IPython.display import Image \n",
    "import torch, torchvision"
   ]
  },
  {
   "cell_type": "code",
   "execution_count": 2,
   "id": "59789bbe",
   "metadata": {},
   "outputs": [],
   "source": [
    "poison_setups = 'poison_setups/cifar10_transfer_learning.pickle'\n",
    "#poison_setups = 'poison_setups/cifar10_from_scratch.pickle'\n",
    "#poison_setups = 'poison_setups/tinyimagenet_transfer_learning.pickle'\n",
    "#poison_setups = 'poison_setups/tinyimagenet_from_scratch.pickle'"
   ]
  },
  {
   "cell_type": "code",
   "execution_count": 3,
   "id": "099acfe8",
   "metadata": {},
   "outputs": [],
   "source": [
    "with open(poison_setups, \"rb\") as handle:\n",
    "    setup_dicts = pickle.load(handle)"
   ]
  },
  {
   "cell_type": "code",
   "execution_count": 5,
   "id": "0ee569bf",
   "metadata": {},
   "outputs": [
    {
     "data": {
      "text/plain": [
       "{'target class': 4,\n",
       " 'target index': 9139,\n",
       " 'base class': 7,\n",
       " 'base indices': array([30330,  7829, 47673, 14780, 41050, 37670, 20223, 41973, 21599,\n",
       "        33265, 40426, 25213, 10643, 23609, 19553, 41843, 44560, 18517,\n",
       "        17023, 14400, 40330, 26767, 42366, 34367, 44798])}"
      ]
     },
     "execution_count": 5,
     "metadata": {},
     "output_type": "execute_result"
    }
   ],
   "source": [
    "setup_dicts[0]"
   ]
  },
  {
   "cell_type": "code",
   "execution_count": 7,
   "id": "88efa1c8",
   "metadata": {},
   "outputs": [],
   "source": [
    "def getTrial(n, attack):\n",
    "    with open(f'poison_examples/cifar10-transfer/{attack}_poisons/num_poisons=25/{n}/base_indices.pickle','rb') as handle:\n",
    "        base = pickle.load(handle)\n",
    "    with open(f'poison_examples/cifar10-transfer/{attack}_poisons/num_poisons=25/{n}/target.pickle','rb') as handle:\n",
    "        target = pickle.load(handle)\n",
    "    with open(f'poison_examples/cifar10-transfer/{attack}_poisons/num_poisons=25/{n}/poisons.pickle','rb') as handle:\n",
    "        poisons= pickle.load(handle)\n",
    "    return base, target, poisons"
   ]
  },
  {
   "cell_type": "code",
   "execution_count": 9,
   "id": "929c7454",
   "metadata": {},
   "outputs": [],
   "source": [
    "htbd_base, htbd_target, htbd_poisons = getTrial(0, 'htbd')"
   ]
  },
  {
   "cell_type": "code",
   "execution_count": 15,
   "id": "28592166",
   "metadata": {},
   "outputs": [
    {
     "data": {
      "text/plain": [
       "array([33922, 11944, 30575, 17174, 42674,  5649, 24476, 13194, 24587,\n",
       "       42204,  8515, 43220, 17865,  4567, 24374, 39691, 43775, 28408,\n",
       "        4079, 48516, 40761, 41842, 35626, 49004, 25820])"
      ]
     },
     "execution_count": 15,
     "metadata": {},
     "output_type": "execute_result"
    }
   ],
   "source": [
    "htbd_base #Why don't these match with setup_dicts[0]?"
   ]
  },
  {
   "cell_type": "code",
   "execution_count": 19,
   "id": "eb15e5c7",
   "metadata": {},
   "outputs": [],
   "source": [
    "batnets_base, badnets_target, badnets_poisons = getTrial(0, 'badnets')"
   ]
  },
  {
   "cell_type": "code",
   "execution_count": 20,
   "id": "9f618b5a",
   "metadata": {},
   "outputs": [
    {
     "ename": "NameError",
     "evalue": "name 'badnets_base' is not defined",
     "output_type": "error",
     "traceback": [
      "\u001b[0;31m---------------------------------------------------------------------------\u001b[0m",
      "\u001b[0;31mNameError\u001b[0m                                 Traceback (most recent call last)",
      "Input \u001b[0;32mIn [20]\u001b[0m, in \u001b[0;36m<cell line: 1>\u001b[0;34m()\u001b[0m\n\u001b[0;32m----> 1\u001b[0m \u001b[43mbadnets_base\u001b[49m\n",
      "\u001b[0;31mNameError\u001b[0m: name 'badnets_base' is not defined"
     ]
    }
   ],
   "source": [
    "badnets_base"
   ]
  },
  {
   "cell_type": "code",
   "execution_count": null,
   "id": "19e46c13",
   "metadata": {},
   "outputs": [],
   "source": []
  }
 ],
 "metadata": {
  "kernelspec": {
   "display_name": "Python 3 (ipykernel)",
   "language": "python",
   "name": "python3"
  },
  "language_info": {
   "codemirror_mode": {
    "name": "ipython",
    "version": 3
   },
   "file_extension": ".py",
   "mimetype": "text/x-python",
   "name": "python",
   "nbconvert_exporter": "python",
   "pygments_lexer": "ipython3",
   "version": "3.8.13"
  }
 },
 "nbformat": 4,
 "nbformat_minor": 5
}
