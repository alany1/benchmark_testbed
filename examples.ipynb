{
 "cells": [
  {
   "cell_type": "markdown",
   "id": "f222dede",
   "metadata": {},
   "source": [
    "# Examples of poison setups and Badnets implementation\n",
    "\n",
    "Cleaned up version of explore notebook"
   ]
  },
  {
   "cell_type": "code",
   "execution_count": 1,
   "id": "dfbed096",
   "metadata": {},
   "outputs": [],
   "source": [
    "import pickle\n",
    "import PIL\n",
    "from IPython.display import Image \n",
    "import torch, torchvision"
   ]
  },
  {
   "cell_type": "code",
   "execution_count": 2,
   "id": "25208e7b",
   "metadata": {},
   "outputs": [],
   "source": [
    "poison_setups = 'poison_setups/cifar10_transfer_learning.pickle'\n",
    "#poison_setups = 'poison_setups/cifar10_from_scratch.pickle'\n",
    "#poison_setups = 'poison_setups/tinyimagenet_transfer_learning.pickle'\n",
    "#poison_setups = 'poison_setups/tinyimagenet_from_scratch.pickle'"
   ]
  },
  {
   "cell_type": "code",
   "execution_count": 3,
   "id": "b16a6476",
   "metadata": {},
   "outputs": [],
   "source": [
    "with open(poison_setups, \"rb\") as handle:\n",
    "    setup_dicts = pickle.load(handle)"
   ]
  },
  {
   "cell_type": "code",
   "execution_count": 5,
   "id": "ba8d07ba",
   "metadata": {},
   "outputs": [
    {
     "data": {
      "text/plain": [
       "{'target class': 4,\n",
       " 'target index': 9139,\n",
       " 'base class': 7,\n",
       " 'base indices': array([30330,  7829, 47673, 14780, 41050, 37670, 20223, 41973, 21599,\n",
       "        33265, 40426, 25213, 10643, 23609, 19553, 41843, 44560, 18517,\n",
       "        17023, 14400, 40330, 26767, 42366, 34367, 44798])}"
      ]
     },
     "execution_count": 5,
     "metadata": {},
     "output_type": "execute_result"
    }
   ],
   "source": [
    "setup_dicts[0]"
   ]
  },
  {
   "cell_type": "code",
   "execution_count": 7,
   "id": "1cd3a525",
   "metadata": {},
   "outputs": [],
   "source": [
    "def getTrial(n, attack):\n",
    "    with open(f'poison_examples/cifar10-transfer/{attack}_poisons/num_poisons=25/{n}/base_indices.pickle','rb') as handle:\n",
    "        base = pickle.load(handle)\n",
    "    with open(f'poison_examples/cifar10-transfer/{attack}_poisons/num_poisons=25/{n}/target.pickle','rb') as handle:\n",
    "        target = pickle.load(handle)\n",
    "    with open(f'poison_examples/cifar10-transfer/{attack}_poisons/num_poisons=25/{n}/poisons.pickle','rb') as handle:\n",
    "        poisons= pickle.load(handle)\n",
    "    return base, target, poisons"
   ]
  },
  {
   "cell_type": "code",
   "execution_count": 9,
   "id": "64ebe99a",
   "metadata": {},
   "outputs": [],
   "source": [
    "htbd_base, htbd_target, htbd_poisons = getTrial(0, 'htbd')"
   ]
  },
  {
   "cell_type": "code",
   "execution_count": 15,
   "id": "8cbe443c",
   "metadata": {},
   "outputs": [
    {
     "data": {
      "text/plain": [
       "array([33922, 11944, 30575, 17174, 42674,  5649, 24476, 13194, 24587,\n",
       "       42204,  8515, 43220, 17865,  4567, 24374, 39691, 43775, 28408,\n",
       "        4079, 48516, 40761, 41842, 35626, 49004, 25820])"
      ]
     },
     "execution_count": 15,
     "metadata": {},
     "output_type": "execute_result"
    }
   ],
   "source": [
    "htbd_base #Why don't these match with setup_dicts[0]?"
   ]
  },
  {
   "cell_type": "code",
   "execution_count": 21,
   "id": "9be1d942",
   "metadata": {},
   "outputs": [],
   "source": [
    "badnets_base, badnets_target, badnets_poisons = getTrial(0, 'badnets')"
   ]
  },
  {
   "cell_type": "code",
   "execution_count": 23,
   "id": "9d21ff05",
   "metadata": {},
   "outputs": [
    {
     "data": {
      "text/plain": [
       "array([30330,  7829, 47673, 14780, 41050, 37670, 20223, 41973, 21599,\n",
       "       33265, 40426, 25213, 10643, 23609, 19553, 41843, 44560, 18517,\n",
       "       17023, 14400, 40330, 26767, 42366, 34367, 44798])"
      ]
     },
     "execution_count": 23,
     "metadata": {},
     "output_type": "execute_result"
    }
   ],
   "source": [
    "badnets_base #This matches with setup_dicts[0]"
   ]
  },
  {
   "cell_type": "code",
   "execution_count": 30,
   "id": "4aec2b1b",
   "metadata": {},
   "outputs": [
    {
     "data": {
      "image/png": "[encoded data removed]",
      "text/plain": [
       "<PIL.Image.Image image mode=RGB size=32x32 at 0x7FF578B35BB0>"
      ]
     },
     "execution_count": 30,
     "metadata": {},
     "output_type": "execute_result"
    }
   ],
   "source": [
    "badnets_poisons[0][0] #Yellow square trigger at top left corner"
   ]
  },
  {
   "cell_type": "code",
   "execution_count": null,
   "id": "ae91994c",
   "metadata": {},
   "outputs": [],
   "source": []
  }
 ],
 "metadata": {
  "kernelspec": {
   "display_name": "Python 3 (ipykernel)",
   "language": "python",
   "name": "python3"
  },
  "language_info": {
   "codemirror_mode": {
    "name": "ipython",
    "version": 3
   },
   "file_extension": ".py",
   "mimetype": "text/x-python",
   "name": "python",
   "nbconvert_exporter": "python",
   "pygments_lexer": "ipython3",
   "version": "3.8.13"
  }
 },
 "nbformat": 4,
 "nbformat_minor": 5
}
