{
 "cells": [
  {
   "cell_type": "code",
   "execution_count": 2,
   "id": "6d7d5bd9",
   "metadata": {},
   "outputs": [],
   "source": [
    "import pickle\n",
    "import PIL\n",
    "from IPython.display import Image \n",
    "import torch, torchvision"
   ]
  },
  {
   "cell_type": "code",
   "execution_count": 13,
   "id": "1b40c63e",
   "metadata": {},
   "outputs": [],
   "source": [
    "poison_setups = 'poison_setups/cifar10_transfer_learning.pickle'\n",
    "#poison_setups = 'poison_setups/cifar10_from_scratch.pickle'\n",
    "#poison_setups = 'poison_setups/tinyimagenet_transfer_learning.pickle'\n",
    "#poison_setups = 'poison_setups/tinyimagenet_from_scratch.pickle'"
   ]
  },
  {
   "cell_type": "code",
   "execution_count": 14,
   "id": "20b8735a",
   "metadata": {},
   "outputs": [],
   "source": [
    "with open(poison_setups, \"rb\") as handle:\n",
    "    setup_dicts = pickle.load(handle)"
   ]
  },
  {
   "cell_type": "code",
   "execution_count": 15,
   "id": "d5ba8067",
   "metadata": {},
   "outputs": [
    {
     "data": {
      "text/plain": [
       "{'target class': 4,\n",
       " 'target index': 9139,\n",
       " 'base class': 7,\n",
       " 'base indices': array([30330,  7829, 47673, 14780, 41050, 37670, 20223, 41973, 21599,\n",
       "        33265, 40426, 25213, 10643, 23609, 19553, 41843, 44560, 18517,\n",
       "        17023, 14400, 40330, 26767, 42366, 34367, 44798])}"
      ]
     },
     "execution_count": 15,
     "metadata": {},
     "output_type": "execute_result"
    }
   ],
   "source": [
    "setup_dicts[0]"
   ]
  },
  {
   "cell_type": "code",
   "execution_count": 29,
   "id": "76d77943",
   "metadata": {},
   "outputs": [],
   "source": [
    "with open('poison_examples/cifar10-transfer/htbd_poisons/num_poisons=25/0/base_indices.pickle','rb') as handle:\n",
    "    target2 = pickle.load(handle)"
   ]
  },
  {
   "cell_type": "code",
   "execution_count": 28,
   "id": "9651fac9",
   "metadata": {},
   "outputs": [
    {
     "data": {
      "text/plain": [
       "array([33922, 11944, 30575, 17174, 42674,  5649, 24476, 13194, 24587,\n",
       "       42204,  8515, 43220, 17865,  4567, 24374, 39691, 43775, 28408,\n",
       "        4079, 48516, 40761, 41842, 35626, 49004, 25820])"
      ]
     },
     "execution_count": 28,
     "metadata": {},
     "output_type": "execute_result"
    }
   ],
   "source": [
    "target"
   ]
  },
  {
   "cell_type": "code",
   "execution_count": 30,
   "id": "c3bfa656",
   "metadata": {},
   "outputs": [
    {
     "data": {
      "text/plain": [
       "array([33922, 11944, 30575, 17174, 42674,  5649, 24476, 13194, 24587,\n",
       "       42204,  8515, 43220, 17865,  4567, 24374, 39691, 43775, 28408,\n",
       "        4079, 48516, 40761, 41842, 35626, 49004, 25820])"
      ]
     },
     "execution_count": 30,
     "metadata": {},
     "output_type": "execute_result"
    }
   ],
   "source": [
    "target2"
   ]
  },
  {
   "cell_type": "code",
   "execution_count": 34,
   "id": "bfa7e5e7",
   "metadata": {},
   "outputs": [
    {
     "name": "stdout",
     "output_type": "stream",
     "text": [
      "Files already downloaded and verified\n"
     ]
    }
   ],
   "source": [
    "from torchvision import transforms\n",
    "cleanset = torchvision.datasets.CIFAR10(\n",
    "            root=\"./data\", train=True, download=True, transform=transforms.ToTensor())"
   ]
  },
  {
   "cell_type": "code",
   "execution_count": 38,
   "id": "1e2db045",
   "metadata": {},
   "outputs": [
    {
     "data": {
      "text/plain": [
       "[0, 0, 0, 0, 0, 0, 0, 0, 0, 0, 0, 0, 0, 0, 0, 0, 0, 0, 0, 0, 0, 0, 0, 0, 0]"
      ]
     },
     "execution_count": 38,
     "metadata": {},
     "output_type": "execute_result"
    }
   ],
   "source": [
    "[cleanset[x][1] for x in target2]"
   ]
  },
  {
   "cell_type": "code",
   "execution_count": null,
   "id": "37ae8252",
   "metadata": {},
   "outputs": [],
   "source": [
    "def getTrial(n, attack):\n",
    "    with open(f'poison_examples/{attack}_poisons/num_poisons=25/{n}/base_indices.pickle','rb') as handle:\n",
    "        base = pickle.load(handle)\n",
    "    with open(f'poison_examples/{attack}_poisons/num_poisons=25/{n}/target.pickle','rb') as handle:\n",
    "        target = pickle.load(handle)\n",
    "    with open(f'poison_examples/{attack}_poisons/num_poisons=25/{n}/poisons.pickle','rb') as handle:\n",
    "        poisons= pickle.load(handle)\n",
    "    return base, target, poisons"
   ]
  },
  {
   "cell_type": "code",
   "execution_count": null,
   "id": "27d630d8",
   "metadata": {},
   "outputs": [],
   "source": [
    "clbdbase, clbdtarget, clbdpoisons = getTrial(24, 'clbd')\n",
    "htbdbase, htbdtarget, htbdpoisons = getTrial(24, 'htbd')\n",
    "fcbase, fctarget, fcpoisons = getTrial(24, 'fc')\n",
    "fcbase"
   ]
  },
  {
   "cell_type": "code",
   "execution_count": null,
   "id": "9e64f9a7",
   "metadata": {},
   "outputs": [],
   "source": [
    "out = []\n",
    "for i in range(100):\n",
    "    L1 = getTrial(i, 'htbd')\n",
    "    L2 = getTrial(i, 'clbd')\n",
    "    L3 = getTrial(i, 'fc')\n",
    "    assert all(L1[0] == L2[0])\n",
    "    out.append(L1[0])\n",
    "out"
   ]
  },
  {
   "cell_type": "code",
   "execution_count": null,
   "id": "bf4562ac",
   "metadata": {},
   "outputs": [],
   "source": [
    "for i in range(100):\n",
    "    for j in range(len(setup_dicts)):\n",
    "        #print(out[i])\n",
    "        #print(setup_dicts[j]['base indices'])\n",
    "        if all(out[i] == setup_dicts[j]['base indices']):\n",
    "            print('good')\n",
    "    "
   ]
  },
  {
   "cell_type": "code",
   "execution_count": null,
   "id": "ffcc9b99",
   "metadata": {},
   "outputs": [],
   "source": [
    "setup_dicts[24]"
   ]
  },
  {
   "cell_type": "code",
   "execution_count": null,
   "id": "e2a8eaee",
   "metadata": {},
   "outputs": [],
   "source": [
    "clbdbase"
   ]
  },
  {
   "cell_type": "code",
   "execution_count": null,
   "id": "f471af11",
   "metadata": {},
   "outputs": [],
   "source": [
    "clbdtarget"
   ]
  },
  {
   "cell_type": "code",
   "execution_count": null,
   "id": "cf06afbe",
   "metadata": {},
   "outputs": [],
   "source": [
    "clbdpoisons"
   ]
  },
  {
   "cell_type": "code",
   "execution_count": null,
   "id": "66f56dcc",
   "metadata": {},
   "outputs": [],
   "source": [
    "def getGu(n):\n",
    "    with open(f'./poison_examples/badnets_poisons/{n}/base_indices.pickle','rb') as handle:\n",
    "        base = pickle.load(handle)\n",
    "        print(base)\n",
    "    with open(f'./poison_examples/badnets_poisons/{n}/target.pickle','rb') as handle:\n",
    "        target = pickle.load(handle)\n",
    "    with open(f'./poison_examples/badnets_poisons/{n}/poisons.pickle','rb') as handle:\n",
    "        poisons= pickle.load(handle)\n",
    "    return base, target, poisons"
   ]
  },
  {
   "cell_type": "code",
   "execution_count": null,
   "id": "a5c561ba",
   "metadata": {},
   "outputs": [],
   "source": [
    "gubase, gutarget, gupoisons = getGu(97)"
   ]
  },
  {
   "cell_type": "code",
   "execution_count": null,
   "id": "270a2091",
   "metadata": {},
   "outputs": [],
   "source": [
    "gupoisons[0][0].show()"
   ]
  },
  {
   "cell_type": "code",
   "execution_count": null,
   "id": "8634d4c0",
   "metadata": {},
   "outputs": [],
   "source": [
    "clbdpoisons, gupoisons"
   ]
  },
  {
   "cell_type": "code",
   "execution_count": null,
   "id": "6e325526",
   "metadata": {},
   "outputs": [],
   "source": [
    "setup = setup_dicts[0]"
   ]
  },
  {
   "cell_type": "code",
   "execution_count": null,
   "id": "a0e6a86a",
   "metadata": {},
   "outputs": [],
   "source": [
    "gupoisons[0][1].item()"
   ]
  },
  {
   "cell_type": "code",
   "execution_count": null,
   "id": "f4290e63",
   "metadata": {},
   "outputs": [],
   "source": [
    "from torchvision import datasets, transforms\n",
    "trainset = datasets.CIFAR10(root=\"data\", train=True, download=True,\n",
    "                                        transform=transforms.ToTensor())\n",
    "base_labels = torch.LongTensor([trainset[i][1] for i in setup['base indices']])\n"
   ]
  },
  {
   "cell_type": "code",
   "execution_count": null,
   "id": "883ce877",
   "metadata": {},
   "outputs": [],
   "source": [
    "base_labels"
   ]
  },
  {
   "cell_type": "code",
   "execution_count": null,
   "id": "494e7b5c",
   "metadata": {},
   "outputs": [],
   "source": [
    "poison_setups"
   ]
  },
  {
   "cell_type": "code",
   "execution_count": null,
   "id": "d14e01ab",
   "metadata": {},
   "outputs": [],
   "source": [
    "poison_setups = 'poison_setups/tinyimagenet_transfer_learning.pickle'\n"
   ]
  },
  {
   "cell_type": "code",
   "execution_count": null,
   "id": "4d46b0a0",
   "metadata": {
    "scrolled": true
   },
   "outputs": [],
   "source": [
    "setup_dicts[0]"
   ]
  },
  {
   "cell_type": "code",
   "execution_count": null,
   "id": "6627332b",
   "metadata": {},
   "outputs": [],
   "source": [
    "max([setup_dicts[i]['base class'] for i in range(len(setup_dicts))])"
   ]
  },
  {
   "cell_type": "code",
   "execution_count": null,
   "id": "3c17d34e",
   "metadata": {},
   "outputs": [],
   "source": []
  },
  {
   "cell_type": "code",
   "execution_count": null,
   "id": "e36e5bf2",
   "metadata": {},
   "outputs": [],
   "source": [
    "from tinyimagenet_module import TinyImageNet\n",
    "TINYIMAGENET_ROOT = \"/Users/alanyu/Desktop/poisoning-benchmark/datasets/tiny-imagenet-200\"\n",
    "cleanset = TinyImageNet(\n",
    "            TINYIMAGENET_ROOT,\n",
    "            split=\"train\",\n",
    "            #transform=transform_train,\n",
    "            classes=\"lasthalf\"\n",
    "        )"
   ]
  },
  {
   "cell_type": "code",
   "execution_count": null,
   "id": "a399cc05",
   "metadata": {},
   "outputs": [],
   "source": [
    "cleanset[0][0]\n",
    "# Tinyimagenet split into two halves, the class labels are adjusted to start at 0\n",
    "# I guess the FC layer for transfer learning has 100 output units, not 200. The first 100 classes don't matter\n",
    "# For the from scratch training, use the whole dataset. \n",
    "# When testing transfer learning, must specify tinyimagenet_last. For from scratch tiny imagenet, \n",
    "# specify tinyimagenet_all."
   ]
  },
  {
   "cell_type": "code",
   "execution_count": null,
   "id": "fcd6c660",
   "metadata": {},
   "outputs": [],
   "source": [
    "def getTrial(n, attack):\n",
    "    with open(f'poison_examples/tinyimagenet_transfer/{attack}_poisons/{n}/base_indices.pickle','rb') as handle:\n",
    "        base = pickle.load(handle)\n",
    "    with open(f'poison_examples/tinyimagenet_transfer/{attack}_poisons/{n}/target.pickle','rb') as handle:\n",
    "        target = pickle.load(handle)\n",
    "    with open(f'poison_examples/tinyimagenet_transfer/{attack}_poisons/{n}/poisons.pickle','rb') as handle:\n",
    "        poisons= pickle.load(handle)\n",
    "    return base, target, poisons"
   ]
  },
  {
   "cell_type": "code",
   "execution_count": null,
   "id": "fd6978e6",
   "metadata": {},
   "outputs": [],
   "source": [
    "base, target, poisons = getTrial(0, 'badnets')"
   ]
  },
  {
   "cell_type": "code",
   "execution_count": null,
   "id": "1a6d1388",
   "metadata": {},
   "outputs": [],
   "source": [
    "poisons"
   ]
  },
  {
   "cell_type": "code",
   "execution_count": null,
   "id": "1801db90",
   "metadata": {},
   "outputs": [],
   "source": [
    "cd "
   ]
  },
  {
   "cell_type": "code",
   "execution_count": null,
   "id": "4c9a334d",
   "metadata": {},
   "outputs": [],
   "source": []
  }
 ],
 "metadata": {
  "kernelspec": {
   "display_name": "Python 3 (ipykernel)",
   "language": "python",
   "name": "python3"
  },
  "language_info": {
   "codemirror_mode": {
    "name": "ipython",
    "version": 3
   },
   "file_extension": ".py",
   "mimetype": "text/x-python",
   "name": "python",
   "nbconvert_exporter": "python",
   "pygments_lexer": "ipython3",
   "version": "3.8.13"
  }
 },
 "nbformat": 4,
 "nbformat_minor": 5
}
