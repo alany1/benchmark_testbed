{
 "cells": [
  {
   "cell_type": "code",
   "execution_count": 32,
   "id": "71f5c0ab",
   "metadata": {},
   "outputs": [],
   "source": [
    "import pickle\n",
    "from torchvision import datasets, transforms\n",
    "import torch\n",
    "import numpy as np\n",
    "\n",
    "POISON_SETUPS_PATH = \"../poison_setups/cifar10_transfer_learning.pickle\"\n",
    "with open(POISON_SETUPS_PATH, \"rb\") as handle:\n",
    "    setup_dicts = pickle.load(handle)"
   ]
  },
  {
   "cell_type": "code",
   "execution_count": 6,
   "id": "43fb3638",
   "metadata": {},
   "outputs": [],
   "source": [
    "setup = setup_dicts[0]"
   ]
  },
  {
   "cell_type": "code",
   "execution_count": 10,
   "id": "31e49e8a",
   "metadata": {},
   "outputs": [
    {
     "name": "stdout",
     "output_type": "stream",
     "text": [
      "Files already downloaded and verified\n",
      "Files already downloaded and verified\n"
     ]
    }
   ],
   "source": [
    "target_class = setup[\"target class\"]\n",
    "target_img_idx = setup[\"target index\"]\n",
    "poisoned_label = setup[\"base class\"]\n",
    "base_indices = setup[\"base indices\"]\n",
    "num_poisons = len(base_indices)\n",
    "\n",
    "trainset = datasets.CIFAR10(root=\"../data\", train=True, download=True,\n",
    "                                    transform=transforms.ToTensor())\n",
    "testset = datasets.CIFAR10(root=\"../data\", train=False, download=True,\n",
    "                                    transform=transforms.ToTensor())\n",
    "\n",
    "target_img, target_label = testset[target_img_idx]\n",
    "\n",
    "#note that for Badnets, we don't care about the base images\n",
    "base_imgs = torch.stack([trainset[i][0] for i in base_indices])\n",
    "base_labels = torch.LongTensor([trainset[i][1] for i in base_indices])"
   ]
  },
  {
   "cell_type": "code",
   "execution_count": 12,
   "id": "c330a82b",
   "metadata": {},
   "outputs": [
    {
     "data": {
      "text/plain": [
       "torch.Size([25, 3, 32, 32])"
      ]
     },
     "execution_count": 12,
     "metadata": {},
     "output_type": "execute_result"
    }
   ],
   "source": [
    "base_imgs.shape"
   ]
  },
  {
   "cell_type": "code",
   "execution_count": 15,
   "id": "f79ec943",
   "metadata": {},
   "outputs": [
    {
     "data": {
      "text/plain": [
       "torch.Size([25])"
      ]
     },
     "execution_count": 15,
     "metadata": {},
     "output_type": "execute_result"
    }
   ],
   "source": [
    "base_labels.shape"
   ]
  },
  {
   "cell_type": "code",
   "execution_count": 16,
   "id": "cc6f2fde",
   "metadata": {},
   "outputs": [
    {
     "data": {
      "text/plain": [
       "25"
      ]
     },
     "execution_count": 16,
     "metadata": {},
     "output_type": "execute_result"
    }
   ],
   "source": [
    "len(base_labels)"
   ]
  },
  {
   "cell_type": "code",
   "execution_count": 17,
   "id": "1938aceb",
   "metadata": {},
   "outputs": [
    {
     "data": {
      "text/plain": [
       "25"
      ]
     },
     "execution_count": 17,
     "metadata": {},
     "output_type": "execute_result"
    }
   ],
   "source": [
    "len(base_imgs)"
   ]
  },
  {
   "cell_type": "code",
   "execution_count": 37,
   "id": "634e1725",
   "metadata": {},
   "outputs": [],
   "source": [
    "L = torch.stack([x for (x,y) in trainset if y == 0])"
   ]
  },
  {
   "cell_type": "code",
   "execution_count": 51,
   "id": "eb99d4a9",
   "metadata": {},
   "outputs": [],
   "source": [
    "ixs = torch.randperm(len(L))"
   ]
  },
  {
   "cell_type": "code",
   "execution_count": 56,
   "id": "b4fba82a",
   "metadata": {},
   "outputs": [],
   "source": [
    "sample = L[ixs[:50]]"
   ]
  },
  {
   "cell_type": "code",
   "execution_count": 70,
   "id": "39061ce5",
   "metadata": {},
   "outputs": [
    {
     "data": {
      "text/plain": [
       "<matplotlib.image.AxesImage at 0x7fd846f3bdc0>"
      ]
     },
     "execution_count": 70,
     "metadata": {},
     "output_type": "execute_result"
    },
    {
     "data": {
      "image/png": "[encoded data removed]",
      "text/plain": [
       "<Figure size 432x288 with 1 Axes>"
      ]
     },
     "metadata": {
      "needs_background": "light"
     },
     "output_type": "display_data"
    }
   ],
   "source": [
    "plt.imshow(torch.ones(3,3,3))"
   ]
  },
  {
   "cell_type": "code",
   "execution_count": 108,
   "id": "63a02de2",
   "metadata": {},
   "outputs": [
    {
     "name": "stdout",
     "output_type": "stream",
     "text": [
      "torch.Size([3, 5, 5])\n"
     ]
    }
   ],
   "source": [
    "from matplotlib import pyplot as plt\n",
    "color = torch.stack([1*torch.ones(5,5), torch.ones(5,5), 0*torch.ones(5,5)])\n",
    "print(color.shape)\n",
    "#color.transpose_(0, -1)\n",
    "#plt.imshow(color)"
   ]
  },
  {
   "cell_type": "code",
   "execution_count": 102,
   "id": "54d2f4f6",
   "metadata": {},
   "outputs": [
    {
     "data": {
      "text/plain": [
       "torch.Size([3, 32, 32])"
      ]
     },
     "execution_count": 102,
     "metadata": {},
     "output_type": "execute_result"
    }
   ],
   "source": [
    "color.transpose(0, -1).shape\n",
    "sample[0].shape"
   ]
  },
  {
   "cell_type": "code",
   "execution_count": 122,
   "id": "d5590692",
   "metadata": {},
   "outputs": [],
   "source": [
    "sample[:,:,:5, :5] = color"
   ]
  },
  {
   "cell_type": "code",
   "execution_count": 93,
   "id": "6cfc5a99",
   "metadata": {},
   "outputs": [
    {
     "name": "stdout",
     "output_type": "stream",
     "text": [
      "tensor([[ 2.5749,  0.3584, -0.6171, -0.7322, -0.5406],\n",
      "        [ 0.7570, -0.1449,  1.0924, -0.4167, -0.1120]]) \n",
      " tensor([[ 2.5749,  0.7570],\n",
      "        [ 0.3584, -0.1449],\n",
      "        [-0.6171,  1.0924],\n",
      "        [-0.7322, -0.4167],\n",
      "        [-0.5406, -0.1120]])\n"
     ]
    }
   ],
   "source": [
    "x = torch.randn(2,5)\n",
    "print(x, '\\n',x.transpose(0,-1))"
   ]
  },
  {
   "cell_type": "code",
   "execution_count": 127,
   "id": "7a43fe92",
   "metadata": {},
   "outputs": [
    {
     "data": {
      "text/plain": [
       "<matplotlib.image.AxesImage at 0x7fd85cc97490>"
      ]
     },
     "execution_count": 127,
     "metadata": {},
     "output_type": "execute_result"
    },
    {
     "data": {
      "image/png": "[encoded data removed]",
      "text/plain": [
       "<Figure size 432x288 with 1 Axes>"
      ]
     },
     "metadata": {
      "needs_background": "light"
     },
     "output_type": "display_data"
    }
   ],
   "source": [
    "plt.imshow(sample[39].permute(1,2,0))"
   ]
  },
  {
   "cell_type": "code",
   "execution_count": 118,
   "id": "575a7d86",
   "metadata": {},
   "outputs": [
    {
     "data": {
      "text/plain": [
       "torch.Size([3, 32, 32])"
      ]
     },
     "execution_count": 118,
     "metadata": {},
     "output_type": "execute_result"
    }
   ],
   "source": [
    "sample[0].shape"
   ]
  },
  {
   "cell_type": "code",
   "execution_count": 131,
   "id": "8df8bf68",
   "metadata": {},
   "outputs": [
    {
     "data": {
      "text/plain": [
       "<matplotlib.image.AxesImage at 0x7fd85ce7e4f0>"
      ]
     },
     "execution_count": 131,
     "metadata": {},
     "output_type": "execute_result"
    },
    {
     "data": {
      "image/png": "[encoded data removed]",
      "text/plain": [
       "<Figure size 432x288 with 1 Axes>"
      ]
     },
     "metadata": {
      "needs_background": "light"
     },
     "output_type": "display_data"
    }
   ],
   "source": [
    "plt.imshow(L[ixs[:50]][0].permute(1,2,0))"
   ]
  },
  {
   "cell_type": "code",
   "execution_count": 132,
   "id": "92133fab",
   "metadata": {},
   "outputs": [],
   "source": [
    "def apply_yellow_patch(batch, start_x = 0, start_y = 0, size = 5):\n",
    "    '''\n",
    "    Apply a trigger (yellow patch) onto a batch of images.\n",
    "    '''\n",
    "    patch = torch.stack([torch.ones(size,size), torch.ones(size,size), torch.zeros(size,size)])\n",
    "    batch[:,:, start_y:start_y + size, start_x: start_x + 5] = patch\n",
    "\n",
    "    return batch"
   ]
  },
  {
   "cell_type": "code",
   "execution_count": 137,
   "id": "92330154",
   "metadata": {},
   "outputs": [],
   "source": [
    "res = apply_yellow_patch(L[ixs[:50]], 10, 0, 5)"
   ]
  },
  {
   "cell_type": "code",
   "execution_count": 138,
   "id": "1c6a5a8a",
   "metadata": {},
   "outputs": [
    {
     "data": {
      "text/plain": [
       "<matplotlib.image.AxesImage at 0x7fd85d877f40>"
      ]
     },
     "execution_count": 138,
     "metadata": {},
     "output_type": "execute_result"
    },
    {
     "data": {
      "image/png": "[encoded data removed]",
      "text/plain": [
       "<Figure size 432x288 with 1 Axes>"
      ]
     },
     "metadata": {
      "needs_background": "light"
     },
     "output_type": "display_data"
    }
   ],
   "source": [
    "plt.imshow(res[0].permute(1,2,0))"
   ]
  },
  {
   "cell_type": "code",
   "execution_count": 139,
   "id": "7e7d1a0a",
   "metadata": {},
   "outputs": [],
   "source": [
    "from torchvision import transforms"
   ]
  },
  {
   "cell_type": "code",
   "execution_count": 140,
   "id": "890ef4af",
   "metadata": {},
   "outputs": [],
   "source": [
    "t = transforms.ToPILImage()"
   ]
  },
  {
   "cell_type": "code",
   "execution_count": 149,
   "id": "6123fb30",
   "metadata": {},
   "outputs": [
    {
     "name": "stdout",
     "output_type": "stream",
     "text": [
      "<PIL.Image.Image image mode=RGB size=32x32 at 0x7FD85CE9F4F0>\n"
     ]
    }
   ],
   "source": [
    "x = t(res[0])\n",
    "print(x)"
   ]
  },
  {
   "cell_type": "code",
   "execution_count": 150,
   "id": "84aade26",
   "metadata": {},
   "outputs": [
    {
     "data": {
      "text/plain": [
       "torch.Size([50, 3, 32, 32])"
      ]
     },
     "execution_count": 150,
     "metadata": {},
     "output_type": "execute_result"
    }
   ],
   "source": [
    "res.shape"
   ]
  },
  {
   "cell_type": "code",
   "execution_count": 151,
   "id": "04327c68",
   "metadata": {},
   "outputs": [],
   "source": [
    "poison_tuples = [(t(res[i]), 0) for i in range(len(res))]\n"
   ]
  },
  {
   "cell_type": "code",
   "execution_count": 153,
   "id": "be388e51",
   "metadata": {},
   "outputs": [
    {
     "data": {
      "text/plain": [
       "50"
      ]
     },
     "execution_count": 153,
     "metadata": {},
     "output_type": "execute_result"
    }
   ],
   "source": [
    "len(poison_tuples)"
   ]
  },
  {
   "cell_type": "code",
   "execution_count": 154,
   "id": "4c80c25b",
   "metadata": {},
   "outputs": [
    {
     "data": {
      "image/png": "[encoded data removed]",
      "text/plain": [
       "<PIL.Image.Image image mode=RGB size=32x32 at 0x7FD85A731640>"
      ]
     },
     "execution_count": 154,
     "metadata": {},
     "output_type": "execute_result"
    }
   ],
   "source": [
    "t(res[0])"
   ]
  },
  {
   "cell_type": "code",
   "execution_count": 176,
   "id": "43b72f26",
   "metadata": {},
   "outputs": [],
   "source": [
    "with open(f'badnets_poisons/{0}/target.pickle','rb') as handle:\n",
    "        base = pickle.load(handle)"
   ]
  },
  {
   "cell_type": "code",
   "execution_count": 173,
   "id": "0ca0d1dd",
   "metadata": {},
   "outputs": [
    {
     "data": {
      "image/png": "[encoded data removed]",
      "text/plain": [
       "<PIL.Image.Image image mode=RGB size=32x32 at 0x7FD85CB0C700>"
      ]
     },
     "execution_count": 173,
     "metadata": {},
     "output_type": "execute_result"
    }
   ],
   "source": [
    "base[0][0]"
   ]
  },
  {
   "cell_type": "code",
   "execution_count": 179,
   "id": "3ed045a9",
   "metadata": {},
   "outputs": [
    {
     "data": {
      "image/png": "[encoded data removed]",
      "text/plain": [
       "<PIL.Image.Image image mode=RGB size=32x32 at 0x7FD85A7B8DC0>"
      ]
     },
     "execution_count": 179,
     "metadata": {},
     "output_type": "execute_result"
    }
   ],
   "source": [
    "base[0]"
   ]
  },
  {
   "cell_type": "code",
   "execution_count": null,
   "id": "cd3ecd73",
   "metadata": {},
   "outputs": [],
   "source": []
  }
 ],
 "metadata": {
  "kernelspec": {
   "display_name": "Python 3 (ipykernel)",
   "language": "python",
   "name": "python3"
  },
  "language_info": {
   "codemirror_mode": {
    "name": "ipython",
    "version": 3
   },
   "file_extension": ".py",
   "mimetype": "text/x-python",
   "name": "python",
   "nbconvert_exporter": "python",
   "pygments_lexer": "ipython3",
   "version": "3.8.13"
  }
 },
 "nbformat": 4,
 "nbformat_minor": 5
}
